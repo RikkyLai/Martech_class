{
 "cells": [
  {
   "cell_type": "code",
   "execution_count": 1,
   "metadata": {},
   "outputs": [],
   "source": [
    "import pandas as pd\n",
    "import numpy as np\n",
    "from dummyPy import OneHotEncoder\n",
    "from sklearn.linear_model import SGDClassifier\n",
    "from sklearn.metrics import log_loss\n",
    "import matplotlib.pyplot as plt\n",
    "import pickle"
   ]
  },
  {
   "cell_type": "code",
   "execution_count": 2,
   "metadata": {},
   "outputs": [],
   "source": [
    "train_file = 'train_sample.csv'\n",
    "test_file = 'test_sample.csv'\n",
    "\n",
    "onehot_encoder_file = \"onehot_encoder\"\n",
    "lr_model_file = 'lr/lr_model'\n",
    "submission_file = 'lr/LR_submission.csv'\n",
    "\n",
    "onehot_encoder = pickle.load(open(onehot_encoder_file, \"rb\"))\n",
    "chunksize=50000\n",
    "df_train = pd.read_csv(train_file, dtype={'id':str}, index_col=None, chunksize=chunksize, iterator=True)\n"
   ]
  },
  {
   "cell_type": "code",
   "execution_count": 3,
   "metadata": {},
   "outputs": [
    {
     "ename": "NameError",
     "evalue": "name 'oh_enc' is not defined",
     "output_type": "error",
     "traceback": [
      "\u001b[0;31m---------------------------------------------------------------------------\u001b[0m",
      "\u001b[0;31mNameError\u001b[0m                                 Traceback (most recent call last)",
      "\u001b[0;32m<ipython-input-3-107a829f4ae9>\u001b[0m in \u001b[0;36m<module>\u001b[0;34m()\u001b[0m\n\u001b[0;32m----> 1\u001b[0;31m \u001b[0moh_enc\u001b[0m\u001b[0;34m\u001b[0m\u001b[0m\n\u001b[0m",
      "\u001b[0;31mNameError\u001b[0m: name 'oh_enc' is not defined"
     ]
    }
   ],
   "source": [
    "oh_enc"
   ]
  },
  {
   "cell_type": "code",
   "execution_count": 4,
   "metadata": {},
   "outputs": [
    {
     "name": "stdout",
     "output_type": "stream",
     "text": [
      "Lr model saved\n",
      "[]\n"
     ]
    }
   ],
   "source": [
    "lr_model = SGDClassifier(loss='log')\n",
    "scores= []\n",
    "\n",
    "k=100\n",
    "i = 1\n",
    "for chunk in df_train:\n",
    "    if i < k:\n",
    "        i += 1\n",
    "        continue\n",
    "    print('training...')\n",
    "    i = 1\n",
    "    df_train_chunk = onehot_encoder.transform(chunk)\n",
    "    # 训练\n",
    "    feature_train = df_train_chunk.columns.drop(['id', 'click'])\n",
    "    train_X = df_train_chunk[feature_train]\n",
    "    train_y = df_train_chunk['click'].astype('int')\n",
    "    lr_model.partial_fit(train_X, train_y, classes=[0, 1])\n",
    "    \n",
    "    y_pred =lr_model.predict_proba(train_X)[:, 1]\n",
    "    score = log_loss(train_y, y_pred)\n",
    "    scores.append(score)\n",
    "\n",
    "pickle.dump(lr_model, open(lr_model_file, 'wb'))\n",
    "print('Lr model saved')\n",
    "print(scores)"
   ]
  },
  {
   "cell_type": "code",
   "execution_count": null,
   "metadata": {},
   "outputs": [],
   "source": []
  }
 ],
 "metadata": {
  "kernelspec": {
   "display_name": "Python 3",
   "language": "python",
   "name": "python3"
  },
  "language_info": {
   "codemirror_mode": {
    "name": "ipython",
    "version": 3
   },
   "file_extension": ".py",
   "mimetype": "text/x-python",
   "name": "python",
   "nbconvert_exporter": "python",
   "pygments_lexer": "ipython3",
   "version": "3.6.3"
  }
 },
 "nbformat": 4,
 "nbformat_minor": 4
}
