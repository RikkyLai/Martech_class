{
 "cells": [
  {
   "cell_type": "code",
   "execution_count": 2,
   "metadata": {},
   "outputs": [],
   "source": [
    "import torch\n",
    "import numpy as np\n",
    "import torch.nn as nn\n",
    "import torch.nn.functional as F"
   ]
  },
  {
   "cell_type": "code",
   "execution_count": null,
   "metadata": {},
   "outputs": [],
   "source": [
    "import torch.optim as optim\n",
    "from torch.utils.data import Dataset, DataLoader\n",
    "from sklearn.model_selection import train_test_split\n",
    "\n",
    "class Net(nn.modules):\n",
    "    def __init__(self):\n",
    "        super(Net, self).__init__()\n",
    "        self.conv1 = nn.Conv2d(1, 6, 3)\n",
    "        self.conv2 = nn.Conv2d(6, 16, 3)\n",
    "        \n",
    "        self.fc1 = nn.Linear(16*6*6, 120)\n",
    "        self.fc2 = nn.Linear(120, 84)\n",
    "        self.fc3 = nn.Linear(84, 10)\n",
    "        \n",
    "    def forward(self, x):\n",
    "        x = F.max_pool2d(F.relu(self.conv1(x)), (2, 2))\n",
    "        x = F.max_pool2d(F.relu(self.conv1(x)), 2)\n",
    "        x = x.view(-1, self.num_flat_features(x))\n",
    "        x = F.relu(self.fc1(x))\n",
    "        x = F.relu(self.fc2(x))\n",
    "        x = self.fc3(x)\n",
    "        return x\n",
    "    \n",
    "    def num_flat_features(self, x):\n",
    "        size = x.size()[1:]\n",
    "        num_features = 1\n",
    "        for s in size:\n",
    "            num_features *= s\n",
    "        return num_features\n",
    "model = Net()\n",
    "print(model)\n"
   ]
  },
  {
   "cell_type": "code",
   "execution_count": null,
   "metadata": {},
   "outputs": [],
   "source": [
    "data = np.load('mnist.npz')\n",
    "# print(data.files)\n",
    "x_train, x_test, y_train, y_test = data['x_train'], data['x_test'], data['y_train'], data['y_test']\n",
    "# type(x_train)\n",
    "x_train = x_train[:, :, :, np.newaxis]\n",
    "x_test = x_test[:, :, :, np.newaxis]\n",
    "# 归一化\n",
    "x_train = x_train/255\n",
    "x_test = x_test/255\n",
    "# one_hot处理\n",
    "y_test = keras.utils.to_categorical(y_test, 10)\n",
    "y_train =keras.utils.to_categorical(y_train, 10)"
   ]
  },
  {
   "cell_type": "code",
   "execution_count": null,
   "metadata": {},
   "outputs": [],
   "source": [
    "class mnistDataset(Dataset):\n",
    "    def __init__(self, x, y):\n",
    "        self.x_train = x\n",
    "        self.y_train = y\n",
    "        \n",
    "    def __len__(self):\n",
    "        return len(self.x_train)\n",
    "    \n",
    "    def __getitem__(self, idx):\n",
    "        if torch.is_tensor(idx):\n",
    "            idx = idx.tolist()\n",
    "        idx, label = self.x_train[idx], self.y_train[idx]\n",
    "        return [idx, label]\n",
    "\n",
    "epochs=2\n",
    "criterion = nn.LogSoftmax()\n",
    "optimizer = optim.Adam(model.parameters, lr=0.01)\n",
    "exp_lr_scheduler = optim.lr_scheduler.StepLR(optimizer, step_size=max(epochs, 5)*len(x_train)//3, gamma=0.1)\n",
    "train_dataset = mnistDataset(x_train, y_train)\n",
    "test_dataset = mnistDataset(x_test, y_test)\n",
    "train_loader = DataLoader(dataset=train_dataset,batch_size=32, shuffle=True, num_workers=4)\n",
    "test_loader = DataLoader(dataset=test_dataset,batch_size=32, shuffle=False, num_workers=4)\n",
    "def train(epoch):\n",
    "    model.train()\n",
    "    for batch_idx, (data, label) in enumerate(train_loader):\n",
    "        output = model(data)\n",
    "        loss = criterion(output, label)\n",
    "        if batch_idx % 200 ==0:\n",
    "            print('Train epoch: {}[{}/{}({:.0f}%)]\\t Loss: {:.6f}'.format(epoch, batch_idx*len(data),\n",
    "                                                                          len(train_loader.dataset),\n",
    "                                                                          100.*batch_idx/len(train_loader), loss.data[0]))\n",
    "        optimizer.zero_grad()\n",
    "        loss.backward()\n",
    "        optimizer.step()\n",
    "        \n",
    "def test():\n",
    "    test_loss = 0\n",
    "    correct = 0\n",
    "    model.eval()\n",
    "    for data, label in test_loader:\n",
    "        output = model(data)\n",
    "        test_loss += criterion(output, label).data\n",
    "\n",
    "for epoch in range(epochs):\n",
    "    train(epoch)\n",
    "    test()\n"
   ]
  },
  {
   "cell_type": "code",
   "execution_count": null,
   "metadata": {},
   "outputs": [],
   "source": []
  },
  {
   "cell_type": "code",
   "execution_count": null,
   "metadata": {},
   "outputs": [],
   "source": []
  }
 ],
 "metadata": {
  "kernelspec": {
   "display_name": "Python 3",
   "language": "python",
   "name": "python3"
  },
  "language_info": {
   "codemirror_mode": {
    "name": "ipython",
    "version": 3
   },
   "file_extension": ".py",
   "mimetype": "text/x-python",
   "name": "python",
   "nbconvert_exporter": "python",
   "pygments_lexer": "ipython3",
   "version": "3.6.3"
  }
 },
 "nbformat": 4,
 "nbformat_minor": 4
}
