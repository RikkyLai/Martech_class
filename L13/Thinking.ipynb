{
 "cells": [
  {
   "cell_type": "markdown",
   "metadata": {},
   "source": [
    "## 1.什么是Graph Embedding，都有哪些算法模型?\n",
    "答：Graph Embedding 是一种降维技术，可以有效挖掘图结构的节点的表示，即使用低维向量表示节点，如果两个点的Graph embedding相似，那么这两个节点相似。算法模型有：Deep walk、Node2Vec、GCN。\n",
    "\n",
    "\n",
    "\n",
    "## 2.如何使用Graph Embedding在推荐系统，比如NetFlix 电影推荐，请说明简要的思路\n",
    "答：根据用户的看过的电影，建立电影之间的有向图，然后使用deep walk随机游走得到相对长度的路径，得到这样类似一维的数据后，接着使用skip-gram的work2vec方法进行映射，得到隐藏层的 embedding向量，来表示电影。\n",
    "\n",
    "\n",
    "\n",
    "## 3.在交通流量预测中，如何使用Graph Embedding，请说明简要的思路\n",
    "答：交通\n",
    "\n",
    "\n",
    "\n",
    "## 4.在文本分类中，如何使用Graph Embedding，请说明简要的思路\n",
    "答：文本分类可以根据内容进行Embedding。首先对文本内容进行分词，然后利用他们的近邻关系，构建图结构，有图结构之后使用deep walk等随机游走，建立一个一维向量（还需要进行onehot encoder），然后再使用skip-gram进行映射，得到embedding向量。\n",
    "\n",
    "或者根据用户浏览文本的先后顺序，建立文本之间的图结构关系，后面步骤都一样。\n",
    "\n",
    "\n",
    "\n"
   ]
  }
 ],
 "metadata": {
  "kernelspec": {
   "display_name": "Python 3",
   "language": "python",
   "name": "python3"
  },
  "language_info": {
   "codemirror_mode": {
    "name": "ipython",
    "version": 3
   },
   "file_extension": ".py",
   "mimetype": "text/x-python",
   "name": "python",
   "nbconvert_exporter": "python",
   "pygments_lexer": "ipython3",
   "version": "3.6.3"
  }
 },
 "nbformat": 4,
 "nbformat_minor": 2
}
