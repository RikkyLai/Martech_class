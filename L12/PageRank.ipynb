{
 "cells": [
  {
   "cell_type": "code",
   "execution_count": 1,
   "metadata": {},
   "outputs": [],
   "source": [
    "import networkx as nx\n",
    "import matplotlib.pyplot as plt\n",
    "\n"
   ]
  },
  {
   "cell_type": "code",
   "execution_count": 4,
   "metadata": {},
   "outputs": [
    {
     "name": "stderr",
     "output_type": "stream",
     "text": [
      "/Library/Frameworks/Python.framework/Versions/3.6/lib/python3.6/site-packages/networkx/drawing/nx_pylab.py:563: MatplotlibDeprecationWarning: \n",
      "The iterable function was deprecated in Matplotlib 3.1 and will be removed in 3.3. Use np.iterable instead.\n",
      "  if not cb.iterable(width):\n",
      "/Library/Frameworks/Python.framework/Versions/3.6/lib/python3.6/site-packages/networkx/drawing/nx_pylab.py:660: MatplotlibDeprecationWarning: \n",
      "The iterable function was deprecated in Matplotlib 3.1 and will be removed in 3.3. Use np.iterable instead.\n",
      "  if cb.iterable(node_size):  # many node sizes\n"
     ]
    },
    {
     "data": {
      "image/png": "[encoded data removed]",
      "text/plain": [
       "<Figure size 432x288 with 1 Axes>"
      ]
     },
     "metadata": {},
     "output_type": "display_data"
    }
   ],
   "source": [
    "G = nx.DiGraph()\n",
    "edges = [(\"A\", \"B\"), (\"A\", \"F\"), (\"A\", \"E\"), (\"A\", \"D\"), (\"B\", \"C\"), (\"C\", \"E\"), (\"D\", \"C\"), (\"D\", \"E\"), (\"D\", \"A\"),(\"E\", \"C\"),\n",
    "        (\"E\", \"B\"), (\"F\", \"D\")]\n",
    "\n",
    "for edge in edges:\n",
    "    G.add_edge(edge[0], edge[1])\n",
    "\n",
    "layout = nx.spring_layout(G)\n",
    "nx.draw(G, pos=layout, with_labels=True, hold=False)\n",
    "plt.show()"
   ]
  },
  {
   "cell_type": "code",
   "execution_count": 5,
   "metadata": {},
   "outputs": [
    {
     "name": "stdout",
     "output_type": "stream",
     "text": [
      "简化模型的PR值： {'A': 4.362295028000273e-11, 'B': 0.20000025428691245, 'F': 2.182304589249693e-11, 'E': 0.40000101720462666, 'D': 6.554246553540412e-11, 'C': 0.39999872837747247}\n",
      "随机模型的PR值： {'A': 0.05457227274629779, 'B': 0.1739298544597237, 'F': 0.0442477883111521, 'E': 0.3242047923707352, 'D': 0.07964601975580721, 'C': 0.3233992723562839}\n"
     ]
    }
   ],
   "source": [
    "# 计算简化模型的PR值\n",
    "pr = nx.pagerank(G, alpha=1)\n",
    "print(\"简化模型的PR值：\", pr)\n",
    "\n",
    "# 计算随机模型的PR值\n",
    "pr = nx.pagerank(G, alpha=0.8)\n",
    "print(\"随机模型的PR值：\", pr)"
   ]
  },
  {
   "cell_type": "code",
   "execution_count": 6,
   "metadata": {},
   "outputs": [
    {
     "name": "stdout",
     "output_type": "stream",
     "text": [
      "简化模型的PR值： [1.47911420e-31 2.00000000e-01 4.00000000e-01 2.21867130e-31\n",
      " 4.00000000e-01 7.39557098e-32]\n"
     ]
    }
   ],
   "source": [
    "import numpy as np\n",
    "a = np.array([[0, 0, 0, 1/3, 0, 0],\n",
    "              [1/4, 0, 0, 0, 1/2, 0],\n",
    "              [0, 1, 0, 1/3, 1/2, 0],\n",
    "              [1/4, 0, 0, 0, 0, 1],\n",
    "              [1/4, 0, 1, 1/3, 0, 0],\n",
    "              [1/4, 0, 0, 0, 0, 0]])\n",
    "b = np.array([1/6, 1/6, 1/6, 1/6, 1/6, 1/6])\n",
    "\n",
    "w = b\n",
    "for i in range(100):\n",
    "    w = np.dot(a, w)\n",
    "print(\"简化模型的PR值：\", w)"
   ]
  },
  {
   "cell_type": "code",
   "execution_count": null,
   "metadata": {},
   "outputs": [],
   "source": [
    "import numpy as np\n",
    "a = np.array([[0, 0, 0, 1/3, 0, 0],\n",
    "              [1/4, 0, 0, 0, 1/2, 0],\n",
    "              [0, 1, 0, 1/3, 1/2, 0],\n",
    "              [1/4, 0, 0, 0, 0, 1],\n",
    "              [1/4, 0, 1, 1/3, 0, 0],\n",
    "              [1/4, 0, 0, 0, 0, 0]])\n",
    "b = np.array([1/6, 1/6, 1/6, 1/6, 1/6, 1/6])\n",
    "d = 0.85\n",
    "w = b\n",
    "for i in range(100):\n",
    "    w = (1-d)/n + d*np.dot(a, w)\n",
    "print(\"随机模型的PR值：\", w)"
   ]
  }
 ],
 "metadata": {
  "kernelspec": {
   "display_name": "Python 3",
   "language": "python",
   "name": "python3"
  },
  "language_info": {
   "codemirror_mode": {
    "name": "ipython",
    "version": 3
   },
   "file_extension": ".py",
   "mimetype": "text/x-python",
   "name": "python",
   "nbconvert_exporter": "python",
   "pygments_lexer": "ipython3",
   "version": "3.6.3"
  }
 },
 "nbformat": 4,
 "nbformat_minor": 2
}
