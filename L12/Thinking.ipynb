{
 "cells": [
  {
   "cell_type": "markdown",
   "metadata": {},
   "source": [
    "## 1.高德地图中的路径规划原理是怎样的？\n",
    "答：首先是流密速的概念，将路程距离转化为时间，因为每两个点之间的距离一定，那么根据雷达或GPS，计算车辆通过这段距离的平均速度，然后最终能够得到通过这段距离的时间，再使用Dijkstra算法，动态规划，就能得到比较完善的路径规划。而城市和城市之间将采用分治的方式，分别求出城市之间的最短距离，加在一起就能得到路径规划。\n",
    "\n",
    "\n",
    "## 2.football.gml数据集中，美国大学生足球联赛，包括115支球队，被分为12个联盟。为什么使用LPA标签传播进行社区发现，只发现了11个社区？\n",
    "答：因为LPA是根据边来划分，即看球队之间是否有比赛，是属于动态的划分，而我们也没有人为地设置类别个数，所以有可能发现的社区数量不一样。\n",
    "\n",
    "\n",
    "\n",
    "## 3.微博采用了类似FaceBook的EdgeRank算法，如果你给微博的信息流做设计，你会如何设计？\n",
    "答：用户查找新鲜事的时候使用EdgeRank算法进行推荐，首先是用户和用户之间的互动是重要的参考，如果A经常评论、点赞B，那么PR(A到B)是很高的，而且有效，但B不怎么与A互动，那么PR(B到A)是很低的，所以用户和用户之间的qi\n",
    "\n",
    "\n"
   ]
  }
 ],
 "metadata": {
  "kernelspec": {
   "display_name": "Python 3",
   "language": "python",
   "name": "python3"
  },
  "language_info": {
   "codemirror_mode": {
    "name": "ipython",
    "version": 3
   },
   "file_extension": ".py",
   "mimetype": "text/x-python",
   "name": "python",
   "nbconvert_exporter": "python",
   "pygments_lexer": "ipython3",
   "version": "3.6.3"
  }
 },
 "nbformat": 4,
 "nbformat_minor": 2
}
