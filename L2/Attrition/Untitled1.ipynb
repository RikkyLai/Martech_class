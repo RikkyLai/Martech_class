{
 "cells": [
  {
   "cell_type": "code",
   "execution_count": 1,
   "metadata": {},
   "outputs": [],
   "source": [
    "import numpy as np\n",
    "import pandas as pd\n",
    "import matplotlib.pyplot as plt\n",
    "from sklearn.preprocessing import MinMaxScaler\n",
    "\n",
    "%matplotlib inline"
   ]
  },
  {
   "cell_type": "code",
   "execution_count": 2,
   "metadata": {},
   "outputs": [],
   "source": [
    "train = pd.read_csv(\"train.csv\")\n",
    "test = pd.read_csv(\"test.csv\")\n",
    "cols = ['BusinessTravel', 'Department', 'EducationField', 'Gender', 'JobRole', 'MaritalStatus', 'Over18', 'OverTime']"
   ]
  },
  {
   "cell_type": "code",
   "execution_count": 3,
   "metadata": {},
   "outputs": [
    {
     "name": "stderr",
     "output_type": "stream",
     "text": [
      "/Library/Frameworks/Python.framework/Versions/3.6/lib/python3.6/site-packages/sklearn/utils/deprecation.py:144: FutureWarning: The sklearn.linear_model.logistic module is  deprecated in version 0.22 and will be removed in version 0.24. The corresponding classes / functions should instead be imported from sklearn.linear_model. Anything that cannot be imported from sklearn.linear_model is now part of the private API.\n",
      "  warnings.warn(message, FutureWarning)\n",
      "/Library/Frameworks/Python.framework/Versions/3.6/lib/python3.6/site-packages/ipykernel_launcher.py:26: SettingWithCopyWarning: \n",
      "A value is trying to be set on a copy of a slice from a DataFrame.\n",
      "Try using .loc[row_indexer,col_indexer] = value instead\n",
      "\n",
      "See the caveats in the documentation: http://pandas.pydata.org/pandas-docs/stable/user_guide/indexing.html#returning-a-view-versus-a-copy\n",
      "/Library/Frameworks/Python.framework/Versions/3.6/lib/python3.6/site-packages/ipykernel_launcher.py:26: SettingWithCopyWarning: \n",
      "A value is trying to be set on a copy of a slice from a DataFrame.\n",
      "Try using .loc[row_indexer,col_indexer] = value instead\n",
      "\n",
      "See the caveats in the documentation: http://pandas.pydata.org/pandas-docs/stable/user_guide/indexing.html#returning-a-view-versus-a-copy\n",
      "/Library/Frameworks/Python.framework/Versions/3.6/lib/python3.6/site-packages/ipykernel_launcher.py:26: SettingWithCopyWarning: \n",
      "A value is trying to be set on a copy of a slice from a DataFrame.\n",
      "Try using .loc[row_indexer,col_indexer] = value instead\n",
      "\n",
      "See the caveats in the documentation: http://pandas.pydata.org/pandas-docs/stable/user_guide/indexing.html#returning-a-view-versus-a-copy\n",
      "/Library/Frameworks/Python.framework/Versions/3.6/lib/python3.6/site-packages/ipykernel_launcher.py:26: SettingWithCopyWarning: \n",
      "A value is trying to be set on a copy of a slice from a DataFrame.\n",
      "Try using .loc[row_indexer,col_indexer] = value instead\n",
      "\n",
      "See the caveats in the documentation: http://pandas.pydata.org/pandas-docs/stable/user_guide/indexing.html#returning-a-view-versus-a-copy\n",
      "/Library/Frameworks/Python.framework/Versions/3.6/lib/python3.6/site-packages/ipykernel_launcher.py:26: SettingWithCopyWarning: \n",
      "A value is trying to be set on a copy of a slice from a DataFrame.\n",
      "Try using .loc[row_indexer,col_indexer] = value instead\n",
      "\n",
      "See the caveats in the documentation: http://pandas.pydata.org/pandas-docs/stable/user_guide/indexing.html#returning-a-view-versus-a-copy\n",
      "/Library/Frameworks/Python.framework/Versions/3.6/lib/python3.6/site-packages/ipykernel_launcher.py:26: SettingWithCopyWarning: \n",
      "A value is trying to be set on a copy of a slice from a DataFrame.\n",
      "Try using .loc[row_indexer,col_indexer] = value instead\n",
      "\n",
      "See the caveats in the documentation: http://pandas.pydata.org/pandas-docs/stable/user_guide/indexing.html#returning-a-view-versus-a-copy\n",
      "[Parallel(n_jobs=1)]: Using backend SequentialBackend with 1 concurrent workers.\n",
      "/Library/Frameworks/Python.framework/Versions/3.6/lib/python3.6/site-packages/sklearn/linear_model/_logistic.py:940: ConvergenceWarning: lbfgs failed to converge (status=1):\n",
      "STOP: TOTAL NO. of ITERATIONS REACHED LIMIT.\n",
      "\n",
      "Increase the number of iterations (max_iter) or scale the data as shown in:\n",
      "    https://scikit-learn.org/stable/modules/preprocessing.html\n",
      "Please also refer to the documentation for alternative solver options:\n",
      "    https://scikit-learn.org/stable/modules/linear_model.html#logistic-regression\n",
      "  extra_warning_msg=_LOGISTIC_SOLVER_CONVERGENCE_MSG)\n",
      "[Parallel(n_jobs=1)]: Done   1 out of   1 | elapsed:    0.0s finished\n"
     ]
    }
   ],
   "source": [
    "\n",
    "from sklearn.linear_model.logistic import LogisticRegression\n",
    "train_lr = train.copy(deep=True)\n",
    "test_lr = test.copy(deep=True)\n",
    "\n",
    "train_lr['Attrition'] = train_lr['Attrition'].map(lambda x: 1 if x=='Yes' else 0)\n",
    "test_lr['Attrition'] = -1\n",
    "test_lr = test_lr[train_lr.columns]\n",
    "data = pd.concat([train_lr, test_lr])\n",
    "\n",
    "data = data.drop(['EmployeeNumber', 'EmployeeCount', 'StandardHours'], axis=1)\n",
    "\n",
    "for attr in cols:\n",
    "    new_attr = pd.DataFrame()\n",
    "    new_attr = pd.get_dummies(data[attr],prefix=attr)\n",
    "    data = pd.concat([data, new_attr], axis=1)\n",
    "    data = data.drop([attr], axis=1)\n",
    "train_lr = data[data['Attrition'] != -1]\n",
    "test_lr = data[data['Attrition'] == -1]\n",
    "test_lr = test_lr.drop('Attrition', axis=1)\n",
    "\n",
    "# 归一化数值比较大的向量\n",
    "Min_max_cols=['TotalWorkingYears', 'Age', 'MonthlyIncome', 'DailyRate', 'DistanceFromHome', 'HourlyRate']\n",
    "for col in Min_max_cols:\n",
    "    min_max = MinMaxScaler()\n",
    "    train_lr[col] = min_max.fit_transform(train_lr[col].values.reshape(-1, 1))\n",
    "    test_lr[col] = min_max.transform(test_lr[col].values.reshape(-1, 1))\n",
    "\n",
    "# 采用LR模型\n",
    "model_lr = LogisticRegression(max_iter=100, verbose=True, random_state=33, tol=1e-4)\n",
    "model_lr.fit(train_lr.drop(['user_id', 'Attrition'], axis=1), train_lr['Attrition'])\n",
    "\n",
    "predict_lr = model_lr.predict_proba(test_lr.drop('user_id', axis=1))[:, 1]"
   ]
  },
  {
   "cell_type": "code",
   "execution_count": 4,
   "metadata": {},
   "outputs": [
    {
     "name": "stdout",
     "output_type": "stream",
     "text": [
      "[1, 3, 6, 8, 12, 14, 18, 19]\n",
      "0:\ttest: 0.5807292\tbest: 0.5807292 (0)\ttotal: 67ms\tremaining: 1m 6s\n",
      "50:\ttest: 0.8094363\tbest: 0.8094363 (50)\ttotal: 761ms\tremaining: 14.2s\n",
      "100:\ttest: 0.8187806\tbest: 0.8187806 (100)\ttotal: 1.49s\tremaining: 13.3s\n",
      "150:\ttest: 0.8123468\tbest: 0.8187806 (100)\ttotal: 2.61s\tremaining: 14.7s\n",
      "200:\ttest: 0.8121936\tbest: 0.8187806 (100)\ttotal: 3.42s\tremaining: 13.6s\n",
      "250:\ttest: 0.8117341\tbest: 0.8187806 (100)\ttotal: 4.13s\tremaining: 12.3s\n",
      "300:\ttest: 0.8129596\tbest: 0.8187806 (100)\ttotal: 4.81s\tremaining: 11.2s\n",
      "350:\ttest: 0.8158701\tbest: 0.8187806 (100)\ttotal: 5.49s\tremaining: 10.2s\n",
      "400:\ttest: 0.8140319\tbest: 0.8187806 (100)\ttotal: 6.17s\tremaining: 9.22s\n",
      "450:\ttest: 0.8157169\tbest: 0.8187806 (100)\ttotal: 6.83s\tremaining: 8.31s\n",
      "500:\ttest: 0.8143382\tbest: 0.8187806 (100)\ttotal: 7.52s\tremaining: 7.49s\n",
      "550:\ttest: 0.8152574\tbest: 0.8187806 (100)\ttotal: 8.21s\tremaining: 6.69s\n",
      "600:\ttest: 0.8151042\tbest: 0.8187806 (100)\ttotal: 8.87s\tremaining: 5.89s\n",
      "650:\ttest: 0.8167892\tbest: 0.8187806 (100)\ttotal: 9.84s\tremaining: 5.28s\n",
      "700:\ttest: 0.8175551\tbest: 0.8187806 (100)\ttotal: 10.7s\tremaining: 4.57s\n",
      "750:\ttest: 0.8175551\tbest: 0.8187806 (100)\ttotal: 11.4s\tremaining: 3.79s\n",
      "800:\ttest: 0.8196998\tbest: 0.8196998 (800)\ttotal: 12.2s\tremaining: 3.03s\n",
      "850:\ttest: 0.8216912\tbest: 0.8216912 (850)\ttotal: 13.2s\tremaining: 2.32s\n",
      "900:\ttest: 0.8209252\tbest: 0.8216912 (850)\ttotal: 14s\tremaining: 1.54s\n",
      "950:\ttest: 0.8236826\tbest: 0.8236826 (950)\ttotal: 14.6s\tremaining: 754ms\n",
      "999:\ttest: 0.8249081\tbest: 0.8249081 (999)\ttotal: 15.3s\tremaining: 0us\n",
      "\n",
      "bestTest = 0.8249080882\n",
      "bestIteration = 999\n",
      "\n"
     ]
    }
   ],
   "source": [
    "\n",
    "from sklearn.model_selection import train_test_split\n",
    "import catboost as cb\n",
    "# catboost的分类\n",
    "train_cb = train.copy(deep=True)\n",
    "test_cb = test.copy(deep=True)\n",
    "\n",
    "train_cb = train_cb.drop(['user_id', 'EmployeeCount', 'EmployeeNumber', 'StandardHours'], axis=1)\n",
    "test_cb = test_cb.drop(['EmployeeCount', 'EmployeeNumber', 'StandardHours'], axis=1)\n",
    "train_cb['Attrition'] = train_cb['Attrition'].map(lambda x:1 if x=='Yes' else 0)\n",
    "\n",
    "x_train, x_valid, y_train, y_valid = train_test_split(train_cb.drop('Attrition', axis=1), train_cb['Attrition'], test_size=0.2, random_state=40)\n",
    "train_cb.columns\n",
    "model_cb = cb.CatBoostClassifier(iterations=1000,\n",
    "                                         depth=7,\n",
    "                                         learning_rate=0.01,\n",
    "                                         loss_function='Logloss',\n",
    "                                         eval_metric='AUC',\n",
    "                                         logging_level='Verbose',\n",
    "                                         metric_period=50)\n",
    "\n",
    "\n",
    "\n",
    "# 得到分类特征的列号\n",
    "categorical_features_indices = []\n",
    "for i in range(len(x_train.columns)):\n",
    "    if x_train.columns.values[i] in cols:\n",
    "        categorical_features_indices.append(i)\n",
    "print(categorical_features_indices)\n",
    "\n",
    "model_cb.fit(x_train, y_train, eval_set=(x_valid, y_valid), cat_features=categorical_features_indices)\n",
    "\n",
    "predict_cb = model_cb.predict_proba(test_cb.drop('user_id', axis=1))[:, 1]\n"
   ]
  },
  {
   "cell_type": "code",
   "execution_count": 5,
   "metadata": {},
   "outputs": [],
   "source": [
    "# GradientBoostingRegressor\n",
    "from sklearn.ensemble import GradientBoostingClassifier\n",
    "\n",
    "train_gb = train.copy(deep=True)\n",
    "test_gb = test.copy(deep=True)\n",
    "\n",
    "train_gb = train_gb.drop(['user_id', 'EmployeeCount', 'EmployeeNumber', 'StandardHours'], axis=1)\n",
    "test_gb = test_gb.drop(['EmployeeCount', 'EmployeeNumber', 'StandardHours'], axis=1)\n",
    "train_gb['Attrition'] = train_gb['Attrition'].map(lambda x:1 if x=='Yes' else 0)\n",
    "\n",
    "from sklearn.preprocessing import LabelEncoder\n",
    "lbe_list = []\n",
    "for col in cols:\n",
    "    lbe = LabelEncoder()\n",
    "    train_gb[col] = lbe.fit_transform(train_gb[col])\n",
    "    test_gb[col] = lbe.transform(test_gb[col])\n",
    "    lbe_list.append(lbe)   \n",
    "\n",
    "\n",
    "model_gb = GradientBoostingClassifier(random_state=10)\n",
    "model_gb.fit(train_gb.drop('Attrition', axis=1), train_gb['Attrition'])\n",
    "predict_gb = model_gb.predict_proba(test_gb.drop('user_id', axis=1))[:, 1]"
   ]
  },
  {
   "cell_type": "code",
   "execution_count": 6,
   "metadata": {},
   "outputs": [],
   "source": [
    "predict = ( predict_lr + predict_cb + predict_gb)/3\n",
    "\n",
    "submission = pd.DataFrame({'user_id': test['user_id'], 'Attrition': predict})\n",
    "submission.to_csv(\"submission_test.csv\", index=False, sep=',', columns=['user_id', 'Attrition'])"
   ]
  },
  {
   "cell_type": "code",
   "execution_count": 15,
   "metadata": {},
   "outputs": [
    {
     "data": {
      "text/plain": [
       "0    988\n",
       "1    188\n",
       "Name: Attrition, dtype: int64"
      ]
     },
     "execution_count": 15,
     "metadata": {},
     "output_type": "execute_result"
    }
   ],
   "source": [
    "train_gb['Attrition'].value_counts()"
   ]
  },
  {
   "cell_type": "code",
   "execution_count": 4,
   "metadata": {},
   "outputs": [
    {
     "data": {
      "text/plain": [
       "Index(['user_id', 'Age', 'Attrition', 'BusinessTravel', 'DailyRate',\n",
       "       'Department', 'DistanceFromHome', 'Education', 'EducationField',\n",
       "       'EmployeeCount', 'EmployeeNumber', 'EnvironmentSatisfaction', 'Gender',\n",
       "       'HourlyRate', 'JobInvolvement', 'JobLevel', 'JobRole',\n",
       "       'JobSatisfaction', 'MaritalStatus', 'MonthlyIncome', 'MonthlyRate',\n",
       "       'NumCompaniesWorked', 'Over18', 'OverTime', 'PercentSalaryHike',\n",
       "       'PerformanceRating', 'RelationshipSatisfaction', 'StandardHours',\n",
       "       'StockOptionLevel', 'TotalWorkingYears', 'TrainingTimesLastYear',\n",
       "       'WorkLifeBalance', 'YearsAtCompany', 'YearsInCurrentRole',\n",
       "       'YearsSinceLastPromotion', 'YearsWithCurrManager'],\n",
       "      dtype='object')"
      ]
     },
     "execution_count": 4,
     "metadata": {},
     "output_type": "execute_result"
    }
   ],
   "source": [
    "train.columns"
   ]
  },
  {
   "cell_type": "code",
   "execution_count": 17,
   "metadata": {},
   "outputs": [
    {
     "data": {
      "text/plain": [
       "Index(['user_id', 'Age', 'BusinessTravel', 'DailyRate', 'Department',\n",
       "       'DistanceFromHome', 'Education', 'EducationField',\n",
       "       'EnvironmentSatisfaction', 'Gender', 'HourlyRate', 'JobInvolvement',\n",
       "       'JobLevel', 'JobRole', 'JobSatisfaction', 'MaritalStatus',\n",
       "       'MonthlyIncome', 'MonthlyRate', 'NumCompaniesWorked', 'Over18',\n",
       "       'OverTime', 'PercentSalaryHike', 'PerformanceRating',\n",
       "       'RelationshipSatisfaction', 'StockOptionLevel', 'TotalWorkingYears',\n",
       "       'TrainingTimesLastYear', 'WorkLifeBalance', 'YearsAtCompany',\n",
       "       'YearsInCurrentRole', 'YearsSinceLastPromotion', 'YearsWithCurrManager',\n",
       "       'Attrition'],\n",
       "      dtype='object')"
      ]
     },
     "execution_count": 17,
     "metadata": {},
     "output_type": "execute_result"
    }
   ],
   "source": [
    "test_gb.columns"
   ]
  },
  {
   "cell_type": "code",
   "execution_count": null,
   "metadata": {},
   "outputs": [],
   "source": []
  }
 ],
 "metadata": {
  "kernelspec": {
   "display_name": "Python 3",
   "language": "python",
   "name": "python3"
  },
  "language_info": {
   "codemirror_mode": {
    "name": "ipython",
    "version": 3
   },
   "file_extension": ".py",
   "mimetype": "text/x-python",
   "name": "python",
   "nbconvert_exporter": "python",
   "pygments_lexer": "ipython3",
   "version": "3.6.3"
  }
 },
 "nbformat": 4,
 "nbformat_minor": 4
}
