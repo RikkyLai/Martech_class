{
 "cells": [
  {
   "cell_type": "code",
   "execution_count": 1,
   "metadata": {},
   "outputs": [],
   "source": [
    "import numpy as np\n",
    "import pandas as pd\n",
    "import matplotlib.pyplot as plt\n",
    "from sklearn.preprocessing import MinMaxScaler\n",
    "\n",
    "%matplotlib inline"
   ]
  },
  {
   "cell_type": "code",
   "execution_count": 2,
   "metadata": {},
   "outputs": [
    {
     "name": "stderr",
     "output_type": "stream",
     "text": [
      "/Library/Frameworks/Python.framework/Versions/3.6/lib/python3.6/site-packages/ipykernel_launcher.py:14: SettingWithCopyWarning: \n",
      "A value is trying to be set on a copy of a slice from a DataFrame.\n",
      "Try using .loc[row_indexer,col_indexer] = value instead\n",
      "\n",
      "See the caveats in the documentation: http://pandas.pydata.org/pandas-docs/stable/user_guide/indexing.html#returning-a-view-versus-a-copy\n",
      "  \n"
     ]
    }
   ],
   "source": [
    "train = pd.read_csv(\"train.csv\")\n",
    "test = pd.read_csv(\"test.csv\")\n",
    "cols = ['BusinessTravel', 'Department', 'EducationField', 'Gender', 'JobRole', 'MaritalStatus', 'Over18', 'OverTime']\n",
    "\n",
    "test['Attrition'] = -1\n",
    "test = test[train.columns]\n",
    "data = pd.concat([train, test])\n",
    "\n",
    "data = data.drop(['EmployeeNumber', 'EmployeeCount', 'StandardHours'], axis=1)\n",
    "\n",
    "train = data[data['Attrition'] != -1]\n",
    "test = data[data['Attrition'] == -1]\n",
    "test = test.drop('Attrition', axis=1)\n",
    "train['Attrition'] = train['Attrition'].map(lambda x: 1 if x=='Yes' else 0) \n",
    "train = train.drop('user_id', axis=1)\n",
    "from sklearn.preprocessing import LabelEncoder\n",
    "lbe_list = []\n",
    "for col in cols:\n",
    "    lbe = LabelEncoder()\n",
    "    train[col] = lbe.fit_transform(train[col])\n",
    "    test[col] = lbe.transform(test[col])\n",
    "    lbe_list.append(lbe)\n"
   ]
  },
  {
   "cell_type": "code",
   "execution_count": 5,
   "metadata": {},
   "outputs": [],
   "source": [
    "from sklearn.ensemble import RandomForestClassifier\n",
    "from sklearn.metrics import accuracy_score\n",
    "from sklearn.model_selection import StratifiedKFold, train_test_split\n",
    "\n",
    "def stacking(model, train_data, train_target, test_data, n_fold):\n",
    "    \"\"\"\n",
    "    :param model:  模型算法\n",
    "    :param train_data:  训练集(不含带预测的目标特征)\n",
    "    :param train_target:  需要预测的目标特征\n",
    "    :param test_data:   测试集\n",
    "    :param n_fold:   交叉验证的折数\n",
    "    :return:\n",
    "    \"\"\"\n",
    "    skf = StratifiedKFold(n_splits=n_fold, random_state=1)  # StratifiedKFold 默认分层采样\n",
    "    train_pred = np.zeros((train_data.shape[0], 1), int)   # 存储训练集预测结果\n",
    "    test_pred = np.zeros((test_data.shape[0], 1), int)  # 存储测试集预测结果 行数：len(test_data) ,列数：1列\n",
    "    for skf_index, (train_index, val_index) in enumerate(skf.split(train_data, train_target)):\n",
    "        print('第 ', skf_index+1, ' 折交叉验证开始... ')\n",
    "        # 训练集划分\n",
    "        x_train, x_val = train_data.iloc[train_index], train_data.iloc[val_index]\n",
    "        y_train, y_val = train_target.iloc[train_index], train_target.iloc[val_index]\n",
    "        # 模型构建\n",
    "        y_train = np.ravel(y_train)   # 向量转成数组\n",
    "        model.fit(X=x_train, y=y_train)\n",
    "        # 模型预测\n",
    "        accs = accuracy_score(y_val, model.predict(x_val))\n",
    "        print('第 ', skf_index+1, ' 折交叉验证 :  accuracy ： ', accs)\n",
    " \n",
    "        # 训练集预测结果\n",
    "        val_pred = model.predict_proba(x_val)[:, 1]\n",
    "        for i in range(len(val_index)):\n",
    "            train_pred[val_index[i]] = val_pred[i]\n",
    "        # 保存测试集预测结果\n",
    "        test_pred = np.column_stack((test_pred, model.predict_proba(test_data)[:, 1]))  # 将矩阵按列合并\n",
    " \n",
    "    test_pred_mean = np.mean(test_pred, axis=1)  # 按行计算均值(会出现小数)\n",
    "    test_pred_mean = pd.DataFrame(test_pred_mean)   # 转成DataFrame\n",
    "#     test_pred_mean = test_pred_mean.apply(lambda x: round(x))  # 小数需要四舍五入成整数\n",
    "    return np.ravel(test_pred_mean), train_pred\n"
   ]
  },
  {
   "cell_type": "code",
   "execution_count": 6,
   "metadata": {},
   "outputs": [
    {
     "name": "stdout",
     "output_type": "stream",
     "text": [
      "==============================随机森林模型==============================\n",
      "第  1  折交叉验证开始... \n"
     ]
    },
    {
     "name": "stderr",
     "output_type": "stream",
     "text": [
      "/Library/Frameworks/Python.framework/Versions/3.6/lib/python3.6/site-packages/sklearn/model_selection/_split.py:296: FutureWarning: Setting a random_state has no effect since shuffle is False. This will raise an error in 0.24. You should leave random_state to its default (None), or set shuffle=True.\n",
      "  FutureWarning\n"
     ]
    },
    {
     "name": "stdout",
     "output_type": "stream",
     "text": [
      "第  1  折交叉验证 :  accuracy ：  0.8771186440677966\n",
      "第  2  折交叉验证开始... \n",
      "第  2  折交叉验证 :  accuracy ：  0.8680851063829788\n",
      "第  3  折交叉验证开始... \n",
      "第  3  折交叉验证 :  accuracy ：  0.8425531914893617\n",
      "第  4  折交叉验证开始... \n",
      "第  4  折交叉验证 :  accuracy ：  0.8638297872340426\n",
      "第  5  折交叉验证开始... \n",
      "第  5  折交叉验证 :  accuracy ：  0.8425531914893617\n",
      "==============================决策树模型==============================\n",
      "第  1  折交叉验证开始... \n",
      "第  1  折交叉验证 :  accuracy ：  0.7796610169491526\n",
      "第  2  折交叉验证开始... \n",
      "第  2  折交叉验证 :  accuracy ：  0.7829787234042553\n",
      "第  3  折交叉验证开始... \n",
      "第  3  折交叉验证 :  accuracy ：  0.7531914893617021\n",
      "第  4  折交叉验证开始... \n",
      "第  4  折交叉验证 :  accuracy ：  0.8085106382978723\n",
      "第  5  折交叉验证开始... \n",
      "第  5  折交叉验证 :  accuracy ：  0.7531914893617021\n",
      "==============================K近邻模型==============================\n",
      "第  1  折交叉验证开始... \n",
      "第  1  折交叉验证 :  accuracy ：  0.8177966101694916\n",
      "第  2  折交叉验证开始... \n",
      "第  2  折交叉验证 :  accuracy ：  0.825531914893617\n",
      "第  3  折交叉验证开始... \n",
      "第  3  折交叉验证 :  accuracy ：  0.825531914893617\n",
      "第  4  折交叉验证开始... \n"
     ]
    },
    {
     "name": "stderr",
     "output_type": "stream",
     "text": [
      "/Library/Frameworks/Python.framework/Versions/3.6/lib/python3.6/site-packages/sklearn/model_selection/_split.py:296: FutureWarning: Setting a random_state has no effect since shuffle is False. This will raise an error in 0.24. You should leave random_state to its default (None), or set shuffle=True.\n",
      "  FutureWarning\n",
      "/Library/Frameworks/Python.framework/Versions/3.6/lib/python3.6/site-packages/sklearn/model_selection/_split.py:296: FutureWarning: Setting a random_state has no effect since shuffle is False. This will raise an error in 0.24. You should leave random_state to its default (None), or set shuffle=True.\n",
      "  FutureWarning\n"
     ]
    },
    {
     "name": "stdout",
     "output_type": "stream",
     "text": [
      "第  4  折交叉验证 :  accuracy ：  0.8468085106382979\n",
      "第  5  折交叉验证开始... \n",
      "第  5  折交叉验证 :  accuracy ：  0.8127659574468085\n"
     ]
    }
   ],
   "source": [
    "\n",
    " \n",
    "import lightgbm as lgb\n",
    "\n",
    "\n",
    "# 三个初级学习器进行初级训练\n",
    "# 随机森林算法进行训练\n",
    "rf = RandomForestClassifier(n_jobs=-1, max_depth=100, n_estimators=800)\n",
    "print('==============================随机森林模型==============================')\n",
    "rf_test_pred, rf_train_pred = stacking(model=rf, train_data=train.drop('Attrition', axis=1), train_target=train['Attrition'], test_data=test.drop('user_id', axis=1), n_fold=5)\n",
    "rf_test_pred = pd.DataFrame(rf_test_pred)\n",
    "rf_train_pred = pd.DataFrame(rf_train_pred)\n",
    "\n",
    "# 用决策树算法进行训练\n",
    "dt = DecisionTreeClassifier(random_state=1)\n",
    "print('==============================决策树模型==============================')\n",
    "dt_test_pred, dt_train_pred = stacking(model=dt, train_data=train.drop('Attrition', axis=1), train_target=train['Attrition'], test_data=test.drop('user_id', axis=1), n_fold=5)\n",
    "dt_test_pred = pd.DataFrame(dt_test_pred)\n",
    "dt_train_pred = pd.DataFrame(dt_train_pred)\n",
    "\n",
    "# 用K近邻算法进行训练\n",
    "knn = KNeighborsClassifier()\n",
    "print('==============================K近邻模型==============================')\n",
    "knn_test_pred, knn_train_pred = stacking(model=knn, train_data=train.drop('Attrition', axis=1), train_target=train['Attrition'], test_data=test.drop('user_id', axis=1), n_fold=5)\n",
    "knn_test_pred = pd.DataFrame(knn_test_pred)\n",
    "knn_train_pred = pd.DataFrame(knn_train_pred)\n",
    "\n",
    "# rf_train_pred,dt_train_pred,knn_train_pred 合并生成次级训练集 train_set\n",
    "# rf_test_pred,dt_test_pred,knn_test_pred 合并生成次级测试集集 test_set\n",
    "train_set = pd.concat([rf_train_pred, dt_train_pred, knn_train_pred],  axis=1)\n",
    "test_set = pd.concat([rf_test_pred, dt_test_pred, knn_test_pred],  axis=1)\n",
    "\n"
   ]
  },
  {
   "cell_type": "code",
   "execution_count": 9,
   "metadata": {},
   "outputs": [
    {
     "data": {
      "text/plain": [
       "array([0.30731849, 0.11206836, 0.11206836, 0.29342004, 0.76154912,\n",
       "       0.30731849, 0.23344356, 0.11206836, 0.23344356, 0.11206836,\n",
       "       0.11206836, 0.11206836, 0.11206836, 0.76154912, 0.23344356,\n",
       "       0.30731849, 0.23344356, 0.23344356, 0.23344356, 0.11206836,\n",
       "       0.69237407, 0.11206836, 0.11206836, 0.11206836, 0.23344356,\n",
       "       0.23344356, 0.11206836, 0.11206836, 0.76154912, 0.11206836,\n",
       "       0.11206836, 0.11206836, 0.23344356, 0.23344356, 0.11206836,\n",
       "       0.11206836, 0.11206836, 0.11206836, 0.11206836, 0.11206836,\n",
       "       0.11206836, 0.11206836, 0.11206836, 0.23344356, 0.23344356,\n",
       "       0.23344356, 0.29342004, 0.11206836, 0.69237407, 0.76154912,\n",
       "       0.11206836, 0.23344356, 0.11206836, 0.23344356, 0.29342004,\n",
       "       0.11206836, 0.11206836, 0.11206836, 0.11206836, 0.23344356,\n",
       "       0.11206836, 0.11206836, 0.11206836, 0.23344356, 0.23344356,\n",
       "       0.11206836, 0.11206836, 0.11206836, 0.11206836, 0.23344356,\n",
       "       0.11206836, 0.23344356, 0.23344356, 0.23344356, 0.11206836,\n",
       "       0.11206836, 0.23344356, 0.23344356, 0.11206836, 0.11206836,\n",
       "       0.11206836, 0.11206836, 0.23344356, 0.23344356, 0.11206836,\n",
       "       0.11206836, 0.11206836, 0.29342004, 0.11206836, 0.23344356,\n",
       "       0.76154912, 0.11206836, 0.11206836, 0.11206836, 0.11206836,\n",
       "       0.11206836, 0.11206836, 0.23344356, 0.11206836, 0.11206836,\n",
       "       0.23344356, 0.23344356, 0.23344356, 0.11206836, 0.30731849,\n",
       "       0.11206836, 0.11206836, 0.23344356, 0.11206836, 0.11206836,\n",
       "       0.23344356, 0.23344356, 0.11206836, 0.11206836, 0.11206836,\n",
       "       0.23344356, 0.11206836, 0.23344356, 0.11206836, 0.11206836,\n",
       "       0.30731849, 0.11206836, 0.11206836, 0.76154912, 0.23344356,\n",
       "       0.11206836, 0.30731849, 0.11206836, 0.23344356, 0.11206836,\n",
       "       0.11206836, 0.11206836, 0.23344356, 0.23344356, 0.23344356,\n",
       "       0.23344356, 0.23344356, 0.30731849, 0.23344356, 0.23344356,\n",
       "       0.11206836, 0.23344356, 0.11206836, 0.11206836, 0.23344356,\n",
       "       0.23344356, 0.11206836, 0.11206836, 0.11206836, 0.11206836,\n",
       "       0.11206836, 0.23344356, 0.11206836, 0.23344356, 0.11206836,\n",
       "       0.11206836, 0.23344356, 0.11206836, 0.29342004, 0.11206836,\n",
       "       0.23344356, 0.11206836, 0.11206836, 0.69237407, 0.11206836,\n",
       "       0.11206836, 0.23344356, 0.11206836, 0.11206836, 0.11206836,\n",
       "       0.11206836, 0.11206836, 0.11206836, 0.23344356, 0.23344356,\n",
       "       0.23344356, 0.11206836, 0.23344356, 0.23344356, 0.11206836,\n",
       "       0.11206836, 0.11206836, 0.11206836, 0.23344356, 0.11206836,\n",
       "       0.11206836, 0.23344356, 0.23344356, 0.23344356, 0.23344356,\n",
       "       0.23344356, 0.69237407, 0.23344356, 0.11206836, 0.11206836,\n",
       "       0.11206836, 0.11206836, 0.11206836, 0.11206836, 0.11206836,\n",
       "       0.23344356, 0.11206836, 0.23344356, 0.11206836, 0.11206836,\n",
       "       0.11206836, 0.23344356, 0.11206836, 0.23344356, 0.11206836,\n",
       "       0.11206836, 0.11206836, 0.11206836, 0.23344356, 0.23344356,\n",
       "       0.30731849, 0.11206836, 0.23344356, 0.11206836, 0.11206836,\n",
       "       0.29342004, 0.30731849, 0.23344356, 0.11206836, 0.23344356,\n",
       "       0.23344356, 0.11206836, 0.23344356, 0.76154912, 0.11206836,\n",
       "       0.11206836, 0.23344356, 0.23344356, 0.11206836, 0.11206836,\n",
       "       0.11206836, 0.23344356, 0.23344356, 0.11206836, 0.23344356,\n",
       "       0.23344356, 0.23344356, 0.11206836, 0.11206836, 0.23344356,\n",
       "       0.23344356, 0.11206836, 0.23344356, 0.11206836, 0.11206836,\n",
       "       0.11206836, 0.11206836, 0.23344356, 0.23344356, 0.23344356,\n",
       "       0.23344356, 0.11206836, 0.69237407, 0.23344356, 0.23344356,\n",
       "       0.23344356, 0.11206836, 0.23344356, 0.11206836, 0.23344356,\n",
       "       0.30731849, 0.11206836, 0.29342004, 0.23344356, 0.11206836,\n",
       "       0.11206836, 0.11206836, 0.11206836, 0.11206836, 0.11206836,\n",
       "       0.11206836, 0.30731849, 0.23344356, 0.23344356, 0.23344356,\n",
       "       0.23344356, 0.23344356, 0.29342004, 0.11206836, 0.11206836,\n",
       "       0.23344356, 0.11206836, 0.11206836, 0.23344356, 0.11206836,\n",
       "       0.11206836, 0.11206836, 0.11206836, 0.11206836])"
      ]
     },
     "execution_count": 9,
     "metadata": {},
     "output_type": "execute_result"
    }
   ],
   "source": [
    "test_pred2"
   ]
  },
  {
   "cell_type": "code",
   "execution_count": 7,
   "metadata": {},
   "outputs": [],
   "source": [
    "param = {'boosting_type':'gbdt',\n",
    "                         'objective' : 'binary', #\n",
    "                         #'metric' : 'binary_logloss',\n",
    "                         'metric' : 'auc',\n",
    "#                          'metric' : 'self_metric',\n",
    "                         'learning_rate' : 0.01,\n",
    "                         'max_depth' : 15,\n",
    "                         'feature_fraction':0.8,\n",
    "                         'bagging_fraction': 0.9,\n",
    "                         'bagging_freq': 8,\n",
    "                         'lambda_l1': 0.6,\n",
    "                         'lambda_l2': 0,\n",
    "#                          'scale_pos_weight':k,\n",
    "#                         'is_unbalance':True\n",
    "        }\n",
    "\n",
    "\n",
    "# lightgbm作为次级学习器进行训练\n",
    "# lgb = lgb.LGBMClassifier(\n",
    "#     objective='multiclass',\n",
    "#     boosting_type='gbdt',\n",
    "#     n_estimators=2000,\n",
    "#     subsample=0.8,\n",
    "#     learning_rate=0.1,\n",
    "#     n_jobs=4,\n",
    "#     reg_alpha=0.1,\n",
    "#     reg_lambda=0.1,\n",
    "#     num_leaves=55\n",
    "# )\n",
    "# y_train = np.ravel(train['Attrition'])  # 向量转成数组\n",
    "clf = lgb.LGBMClassifier(is_unbalanced = False, silent=False)\n",
    "clf.fit(train_set, train['Attrition'])\n",
    "test_pred = clf.predict_proba(test_set)[:, 1]"
   ]
  },
  {
   "cell_type": "code",
   "execution_count": 8,
   "metadata": {},
   "outputs": [],
   "source": [
    "test_pred2 = clf.predict_proba(test_set)[:, 1]"
   ]
  },
  {
   "cell_type": "code",
   "execution_count": 19,
   "metadata": {},
   "outputs": [],
   "source": [
    "submission = pd.DataFrame({'user_id': test['user_id'], 'Attrition': rf_test})\n",
    "submission.to_csv(\"submission_random_forest.csv\", index=False, sep=',', columns=['user_id', 'Attrition'])"
   ]
  },
  {
   "cell_type": "code",
   "execution_count": 9,
   "metadata": {},
   "outputs": [
    {
     "data": {
      "text/plain": [
       "array([0.13061303, 0.13061303, 0.13061303, 0.30611866, 0.30611866,\n",
       "       0.13061303, 0.30611866, 0.13061303, 0.30611866, 0.13061303,\n",
       "       0.13061303, 0.13061303, 0.13061303, 0.30611866, 0.30611866,\n",
       "       0.13061303, 0.30611866, 0.30611866, 0.30611866, 0.13061303,\n",
       "       0.30611866, 0.13061303, 0.13061303, 0.13061303, 0.30611866,\n",
       "       0.30611866, 0.13061303, 0.13061303, 0.30611866, 0.13061303,\n",
       "       0.13061303, 0.13061303, 0.30611866, 0.30611866, 0.13061303,\n",
       "       0.13061303, 0.13061303, 0.13061303, 0.13061303, 0.13061303,\n",
       "       0.13061303, 0.13061303, 0.13061303, 0.30611866, 0.30611866,\n",
       "       0.30611866, 0.30611866, 0.13061303, 0.30611866, 0.30611866,\n",
       "       0.13061303, 0.30611866, 0.13061303, 0.30611866, 0.30611866,\n",
       "       0.13061303, 0.13061303, 0.13061303, 0.13061303, 0.30611866,\n",
       "       0.13061303, 0.13061303, 0.13061303, 0.30611866, 0.30611866,\n",
       "       0.13061303, 0.13061303, 0.13061303, 0.13061303, 0.30611866,\n",
       "       0.13061303, 0.30611866, 0.30611866, 0.30611866, 0.13061303,\n",
       "       0.13061303, 0.30611866, 0.30611866, 0.13061303, 0.13061303,\n",
       "       0.13061303, 0.13061303, 0.30611866, 0.30611866, 0.13061303,\n",
       "       0.13061303, 0.13061303, 0.30611866, 0.13061303, 0.30611866,\n",
       "       0.30611866, 0.13061303, 0.13061303, 0.13061303, 0.13061303,\n",
       "       0.13061303, 0.13061303, 0.30611866, 0.13061303, 0.13061303,\n",
       "       0.30611866, 0.30611866, 0.30611866, 0.13061303, 0.13061303,\n",
       "       0.13061303, 0.13061303, 0.30611866, 0.13061303, 0.13061303,\n",
       "       0.30611866, 0.30611866, 0.13061303, 0.13061303, 0.13061303,\n",
       "       0.30611866, 0.13061303, 0.30611866, 0.13061303, 0.13061303,\n",
       "       0.13061303, 0.13061303, 0.13061303, 0.30611866, 0.30611866,\n",
       "       0.13061303, 0.13061303, 0.13061303, 0.30611866, 0.13061303,\n",
       "       0.13061303, 0.13061303, 0.30611866, 0.30611866, 0.30611866,\n",
       "       0.30611866, 0.30611866, 0.13061303, 0.30611866, 0.30611866,\n",
       "       0.13061303, 0.30611866, 0.13061303, 0.13061303, 0.30611866,\n",
       "       0.30611866, 0.13061303, 0.13061303, 0.13061303, 0.13061303,\n",
       "       0.13061303, 0.30611866, 0.13061303, 0.30611866, 0.13061303,\n",
       "       0.13061303, 0.30611866, 0.13061303, 0.30611866, 0.13061303,\n",
       "       0.30611866, 0.13061303, 0.13061303, 0.30611866, 0.13061303,\n",
       "       0.13061303, 0.30611866, 0.13061303, 0.13061303, 0.13061303,\n",
       "       0.13061303, 0.13061303, 0.13061303, 0.30611866, 0.30611866,\n",
       "       0.30611866, 0.13061303, 0.30611866, 0.30611866, 0.13061303,\n",
       "       0.13061303, 0.13061303, 0.13061303, 0.30611866, 0.13061303,\n",
       "       0.13061303, 0.30611866, 0.30611866, 0.30611866, 0.30611866,\n",
       "       0.30611866, 0.30611866, 0.30611866, 0.13061303, 0.13061303,\n",
       "       0.13061303, 0.13061303, 0.13061303, 0.13061303, 0.13061303,\n",
       "       0.30611866, 0.13061303, 0.30611866, 0.13061303, 0.13061303,\n",
       "       0.13061303, 0.30611866, 0.13061303, 0.30611866, 0.13061303,\n",
       "       0.13061303, 0.13061303, 0.13061303, 0.30611866, 0.30611866,\n",
       "       0.13061303, 0.13061303, 0.30611866, 0.13061303, 0.13061303,\n",
       "       0.30611866, 0.13061303, 0.30611866, 0.13061303, 0.30611866,\n",
       "       0.30611866, 0.13061303, 0.30611866, 0.30611866, 0.13061303,\n",
       "       0.13061303, 0.30611866, 0.30611866, 0.13061303, 0.13061303,\n",
       "       0.13061303, 0.30611866, 0.30611866, 0.13061303, 0.30611866,\n",
       "       0.30611866, 0.30611866, 0.13061303, 0.13061303, 0.30611866,\n",
       "       0.30611866, 0.13061303, 0.30611866, 0.13061303, 0.13061303,\n",
       "       0.13061303, 0.13061303, 0.30611866, 0.30611866, 0.30611866,\n",
       "       0.30611866, 0.13061303, 0.30611866, 0.30611866, 0.30611866,\n",
       "       0.30611866, 0.13061303, 0.30611866, 0.13061303, 0.30611866,\n",
       "       0.13061303, 0.13061303, 0.30611866, 0.30611866, 0.13061303,\n",
       "       0.13061303, 0.13061303, 0.13061303, 0.13061303, 0.13061303,\n",
       "       0.13061303, 0.13061303, 0.30611866, 0.30611866, 0.30611866,\n",
       "       0.30611866, 0.30611866, 0.30611866, 0.13061303, 0.13061303,\n",
       "       0.30611866, 0.13061303, 0.13061303, 0.30611866, 0.13061303,\n",
       "       0.13061303, 0.13061303, 0.13061303, 0.13061303])"
      ]
     },
     "execution_count": 9,
     "metadata": {},
     "output_type": "execute_result"
    }
   ],
   "source": [
    "test_pred"
   ]
  },
  {
   "cell_type": "code",
   "execution_count": 12,
   "metadata": {},
   "outputs": [],
   "source": [
    "rf_test = np.array(rf_test_pred)\n"
   ]
  },
  {
   "cell_type": "code",
   "execution_count": 18,
   "metadata": {},
   "outputs": [],
   "source": [
    "rf_test = rf_test.reshape((-1,))"
   ]
  },
  {
   "cell_type": "code",
   "execution_count": 14,
   "metadata": {},
   "outputs": [
    {
     "data": {
      "text/plain": [
       "(3, 588)"
      ]
     },
     "execution_count": 14,
     "metadata": {},
     "output_type": "execute_result"
    }
   ],
   "source": [
    "test_pred.shape"
   ]
  },
  {
   "cell_type": "code",
   "execution_count": 15,
   "metadata": {},
   "outputs": [
    {
     "data": {
      "text/plain": [
       "(1176, 3)"
      ]
     },
     "execution_count": 15,
     "metadata": {},
     "output_type": "execute_result"
    }
   ],
   "source": [
    "train_set.shape"
   ]
  },
  {
   "cell_type": "code",
   "execution_count": 16,
   "metadata": {},
   "outputs": [
    {
     "data": {
      "text/plain": [
       "(1176,)"
      ]
     },
     "execution_count": 16,
     "metadata": {},
     "output_type": "execute_result"
    }
   ],
   "source": [
    "y_train.shape"
   ]
  },
  {
   "cell_type": "code",
   "execution_count": 20,
   "metadata": {},
   "outputs": [
    {
     "data": {
      "text/html": [
       "<div>\n",
       "<style scoped>\n",
       "    .dataframe tbody tr th:only-of-type {\n",
       "        vertical-align: middle;\n",
       "    }\n",
       "\n",
       "    .dataframe tbody tr th {\n",
       "        vertical-align: top;\n",
       "    }\n",
       "\n",
       "    .dataframe thead th {\n",
       "        text-align: right;\n",
       "    }\n",
       "</style>\n",
       "<table border=\"1\" class=\"dataframe\">\n",
       "  <thead>\n",
       "    <tr style=\"text-align: right;\">\n",
       "      <th></th>\n",
       "      <th>0</th>\n",
       "    </tr>\n",
       "  </thead>\n",
       "  <tbody>\n",
       "    <tr>\n",
       "      <th>0</th>\n",
       "      <td>0.454545</td>\n",
       "    </tr>\n",
       "    <tr>\n",
       "      <th>1</th>\n",
       "      <td>0.454545</td>\n",
       "    </tr>\n",
       "    <tr>\n",
       "      <th>2</th>\n",
       "      <td>0.454545</td>\n",
       "    </tr>\n",
       "    <tr>\n",
       "      <th>3</th>\n",
       "      <td>0.454545</td>\n",
       "    </tr>\n",
       "    <tr>\n",
       "      <th>4</th>\n",
       "      <td>0.454545</td>\n",
       "    </tr>\n",
       "    <tr>\n",
       "      <th>...</th>\n",
       "      <td>...</td>\n",
       "    </tr>\n",
       "    <tr>\n",
       "      <th>289</th>\n",
       "      <td>0.454545</td>\n",
       "    </tr>\n",
       "    <tr>\n",
       "      <th>290</th>\n",
       "      <td>0.454545</td>\n",
       "    </tr>\n",
       "    <tr>\n",
       "      <th>291</th>\n",
       "      <td>0.454545</td>\n",
       "    </tr>\n",
       "    <tr>\n",
       "      <th>292</th>\n",
       "      <td>0.454545</td>\n",
       "    </tr>\n",
       "    <tr>\n",
       "      <th>293</th>\n",
       "      <td>0.454545</td>\n",
       "    </tr>\n",
       "  </tbody>\n",
       "</table>\n",
       "<p>294 rows × 1 columns</p>\n",
       "</div>"
      ],
      "text/plain": [
       "            0\n",
       "0    0.454545\n",
       "1    0.454545\n",
       "2    0.454545\n",
       "3    0.454545\n",
       "4    0.454545\n",
       "..        ...\n",
       "289  0.454545\n",
       "290  0.454545\n",
       "291  0.454545\n",
       "292  0.454545\n",
       "293  0.454545\n",
       "\n",
       "[294 rows x 1 columns]"
      ]
     },
     "execution_count": 20,
     "metadata": {},
     "output_type": "execute_result"
    }
   ],
   "source": [
    "rf_test_pred"
   ]
  },
  {
   "cell_type": "code",
   "execution_count": 7,
   "metadata": {},
   "outputs": [
    {
     "data": {
      "text/html": [
       "<div>\n",
       "<style scoped>\n",
       "    .dataframe tbody tr th:only-of-type {\n",
       "        vertical-align: middle;\n",
       "    }\n",
       "\n",
       "    .dataframe tbody tr th {\n",
       "        vertical-align: top;\n",
       "    }\n",
       "\n",
       "    .dataframe thead th {\n",
       "        text-align: right;\n",
       "    }\n",
       "</style>\n",
       "<table border=\"1\" class=\"dataframe\">\n",
       "  <thead>\n",
       "    <tr style=\"text-align: right;\">\n",
       "      <th></th>\n",
       "      <th>0</th>\n",
       "      <th>0</th>\n",
       "      <th>0</th>\n",
       "    </tr>\n",
       "  </thead>\n",
       "  <tbody>\n",
       "    <tr>\n",
       "      <th>0</th>\n",
       "      <td>0.000000</td>\n",
       "      <td>0.000000</td>\n",
       "      <td>0.333333</td>\n",
       "    </tr>\n",
       "    <tr>\n",
       "      <th>1</th>\n",
       "      <td>0.000000</td>\n",
       "      <td>0.000000</td>\n",
       "      <td>0.000000</td>\n",
       "    </tr>\n",
       "    <tr>\n",
       "      <th>2</th>\n",
       "      <td>0.000000</td>\n",
       "      <td>0.000000</td>\n",
       "      <td>0.000000</td>\n",
       "    </tr>\n",
       "    <tr>\n",
       "      <th>3</th>\n",
       "      <td>0.000000</td>\n",
       "      <td>0.166667</td>\n",
       "      <td>0.333333</td>\n",
       "    </tr>\n",
       "    <tr>\n",
       "      <th>4</th>\n",
       "      <td>0.833333</td>\n",
       "      <td>0.833333</td>\n",
       "      <td>0.833333</td>\n",
       "    </tr>\n",
       "    <tr>\n",
       "      <th>...</th>\n",
       "      <td>...</td>\n",
       "      <td>...</td>\n",
       "      <td>...</td>\n",
       "    </tr>\n",
       "    <tr>\n",
       "      <th>289</th>\n",
       "      <td>0.000000</td>\n",
       "      <td>0.000000</td>\n",
       "      <td>0.000000</td>\n",
       "    </tr>\n",
       "    <tr>\n",
       "      <th>290</th>\n",
       "      <td>0.000000</td>\n",
       "      <td>0.000000</td>\n",
       "      <td>0.000000</td>\n",
       "    </tr>\n",
       "    <tr>\n",
       "      <th>291</th>\n",
       "      <td>0.000000</td>\n",
       "      <td>0.000000</td>\n",
       "      <td>0.000000</td>\n",
       "    </tr>\n",
       "    <tr>\n",
       "      <th>292</th>\n",
       "      <td>0.000000</td>\n",
       "      <td>0.000000</td>\n",
       "      <td>0.000000</td>\n",
       "    </tr>\n",
       "    <tr>\n",
       "      <th>293</th>\n",
       "      <td>0.000000</td>\n",
       "      <td>0.000000</td>\n",
       "      <td>0.000000</td>\n",
       "    </tr>\n",
       "  </tbody>\n",
       "</table>\n",
       "<p>294 rows × 3 columns</p>\n",
       "</div>"
      ],
      "text/plain": [
       "            0         0         0\n",
       "0    0.000000  0.000000  0.333333\n",
       "1    0.000000  0.000000  0.000000\n",
       "2    0.000000  0.000000  0.000000\n",
       "3    0.000000  0.166667  0.333333\n",
       "4    0.833333  0.833333  0.833333\n",
       "..        ...       ...       ...\n",
       "289  0.000000  0.000000  0.000000\n",
       "290  0.000000  0.000000  0.000000\n",
       "291  0.000000  0.000000  0.000000\n",
       "292  0.000000  0.000000  0.000000\n",
       "293  0.000000  0.000000  0.000000\n",
       "\n",
       "[294 rows x 3 columns]"
      ]
     },
     "execution_count": 7,
     "metadata": {},
     "output_type": "execute_result"
    }
   ],
   "source": [
    "test_set"
   ]
  },
  {
   "cell_type": "code",
   "execution_count": 19,
   "metadata": {},
   "outputs": [
    {
     "data": {
      "text/html": [
       "<div>\n",
       "<style scoped>\n",
       "    .dataframe tbody tr th:only-of-type {\n",
       "        vertical-align: middle;\n",
       "    }\n",
       "\n",
       "    .dataframe tbody tr th {\n",
       "        vertical-align: top;\n",
       "    }\n",
       "\n",
       "    .dataframe thead th {\n",
       "        text-align: right;\n",
       "    }\n",
       "</style>\n",
       "<table border=\"1\" class=\"dataframe\">\n",
       "  <thead>\n",
       "    <tr style=\"text-align: right;\">\n",
       "      <th></th>\n",
       "      <th>0</th>\n",
       "      <th>0</th>\n",
       "      <th>0</th>\n",
       "    </tr>\n",
       "  </thead>\n",
       "  <tbody>\n",
       "    <tr>\n",
       "      <th>0</th>\n",
       "      <td>0</td>\n",
       "      <td>0</td>\n",
       "      <td>0</td>\n",
       "    </tr>\n",
       "    <tr>\n",
       "      <th>1</th>\n",
       "      <td>0</td>\n",
       "      <td>0</td>\n",
       "      <td>0</td>\n",
       "    </tr>\n",
       "    <tr>\n",
       "      <th>2</th>\n",
       "      <td>0</td>\n",
       "      <td>0</td>\n",
       "      <td>0</td>\n",
       "    </tr>\n",
       "    <tr>\n",
       "      <th>3</th>\n",
       "      <td>0</td>\n",
       "      <td>0</td>\n",
       "      <td>0</td>\n",
       "    </tr>\n",
       "    <tr>\n",
       "      <th>4</th>\n",
       "      <td>1</td>\n",
       "      <td>1</td>\n",
       "      <td>0</td>\n",
       "    </tr>\n",
       "    <tr>\n",
       "      <th>...</th>\n",
       "      <td>...</td>\n",
       "      <td>...</td>\n",
       "      <td>...</td>\n",
       "    </tr>\n",
       "    <tr>\n",
       "      <th>1171</th>\n",
       "      <td>0</td>\n",
       "      <td>0</td>\n",
       "      <td>1</td>\n",
       "    </tr>\n",
       "    <tr>\n",
       "      <th>1172</th>\n",
       "      <td>0</td>\n",
       "      <td>1</td>\n",
       "      <td>0</td>\n",
       "    </tr>\n",
       "    <tr>\n",
       "      <th>1173</th>\n",
       "      <td>0</td>\n",
       "      <td>0</td>\n",
       "      <td>0</td>\n",
       "    </tr>\n",
       "    <tr>\n",
       "      <th>1174</th>\n",
       "      <td>0</td>\n",
       "      <td>1</td>\n",
       "      <td>0</td>\n",
       "    </tr>\n",
       "    <tr>\n",
       "      <th>1175</th>\n",
       "      <td>0</td>\n",
       "      <td>0</td>\n",
       "      <td>0</td>\n",
       "    </tr>\n",
       "  </tbody>\n",
       "</table>\n",
       "<p>1176 rows × 3 columns</p>\n",
       "</div>"
      ],
      "text/plain": [
       "      0  0  0\n",
       "0     0  0  0\n",
       "1     0  0  0\n",
       "2     0  0  0\n",
       "3     0  0  0\n",
       "4     1  1  0\n",
       "...  .. .. ..\n",
       "1171  0  0  1\n",
       "1172  0  1  0\n",
       "1173  0  0  0\n",
       "1174  0  1  0\n",
       "1175  0  0  0\n",
       "\n",
       "[1176 rows x 3 columns]"
      ]
     },
     "execution_count": 19,
     "metadata": {},
     "output_type": "execute_result"
    }
   ],
   "source": [
    "train_set"
   ]
  },
  {
   "cell_type": "code",
   "execution_count": null,
   "metadata": {},
   "outputs": [],
   "source": []
  }
 ],
 "metadata": {
  "kernelspec": {
   "display_name": "Python 3",
   "language": "python",
   "name": "python3"
  },
  "language_info": {
   "codemirror_mode": {
    "name": "ipython",
    "version": 3
   },
   "file_extension": ".py",
   "mimetype": "text/x-python",
   "name": "python",
   "nbconvert_exporter": "python",
   "pygments_lexer": "ipython3",
   "version": "3.6.3"
  }
 },
 "nbformat": 4,
 "nbformat_minor": 4
}
