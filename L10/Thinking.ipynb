{
 "cells": [
  {
   "cell_type": "markdown",
   "metadata": {},
   "source": [
    "## 1.电商定向广告和搜索广告有怎样的区别，算法模型是否有差别?\n",
    "答：区别主要在于用户是否主动Query搜索。搜索广告是根据Query对物品进行召回、排序等一系列操作，比较有精确性，每一个阶段都有独立算法，考虑的是用户体验；定向广告考虑三方，用户、广告商、电商，基于转化率的收益进行推荐。算法模型上我感觉好像没什么区别（不知道对不对）\n",
    "\n",
    "\n",
    "## 2.定向广告都有哪些常见的使用模型，包括Attention机制模型\n",
    "答：定向广告有线性模型、分段线性加级联的非线性模型、深度学习模型（DIN、DIEN、DSIN）这样进化的过程\n",
    "\n",
    "\n",
    "## 3.DIN中的Attention机制思想和原理是怎样的\n",
    "答：Attention的思想就是为candidate ad的embedding向量加一个权重，表现用户的兴趣强度。机制就是给每个candidate商品增加一个attention unit。Activation Unit输出Activation Weight，输入包括用户行为embedding和候选广告embedding以外，还考虑了他们两个的外积。\n",
    "\n",
    "\n",
    "## 4.DIEN相比于DIN有哪些创新?\n",
    "答：因为DIN中的兴趣是静态的，没有考虑一个兴趣演化的问题，所以DIEN通过引入序列模型 AUGRU 模拟了用户兴趣进化的过程，在 Embedding layer 和 Concatenate layer 之间加入了生成兴趣的 Interest Extractor Layer 和模拟兴趣演化的 Interest Evolving layer，Interest Evolving layer 利用序列模型 AUGRU 的结构将不同时间的用户兴趣串联起来，形成兴趣进化的链条，最终把当前时刻的“兴趣向量”输入上层的多层全连接网络，与其他特征一起进行最终的 CTR 预估。\n",
    "\n",
    "\n",
    "\n",
    "## 5.DSIN关于Session的洞察是怎样的，如何对Session兴趣进行表达?\n",
    "答：Session视角，每个Session中的行为是相近的，而在不同会话之间差别是很大的（类似聚类）\n",
    "* 将用户的点击行为按照时间排序，前后的时间间隔大于30min，就进行切分，将用户的行为序列S切分成多个会话序列Q\n",
    "* 寻找session内部的行为之间关系，进一步提取session interest（使用transformer对Session行为进行处理），Self-Attention可以捕捉sequence中的依赖关系，同时可以并行计算\n",
    "* 将会话兴趣抽取层的输出作为该层的输入，用Bi-LSTM模拟不同会话的兴趣动态改变\n",
    "* 设计了两个Activation Unit，将它们与目标item聚合起来，形成行为序列的最终表示形式（黄色，蓝色）\n",
    "\n",
    "\n",
    "\n",
    "## 6.如果你来设计淘宝定向广告，会有哪些future work（即下一个阶段的idea）\n",
    "答：数据越来越多，模型越来越复杂，需要并行运算；模型轻量化，现在每一个unit感觉要训练的参数太多了；怎么进一步捕捉兴趣方面没有想法\n",
    "\n",
    "\n"
   ]
  },
  {
   "cell_type": "markdown",
   "metadata": {},
   "source": [
    "Action的淘宝复购都是老师的代码，但是DIN那个出了错误，拖了蛮久也没跑通，但还是交上来。而且做这种复购预测中，考虑用户行为、商品信息、还有两者交互的特征构建现阶段对于我来说还蛮难的，不知道"
   ]
  }
 ],
 "metadata": {
  "kernelspec": {
   "display_name": "Python 3",
   "language": "python",
   "name": "python3"
  },
  "language_info": {
   "codemirror_mode": {
    "name": "ipython",
    "version": 3
   },
   "file_extension": ".py",
   "mimetype": "text/x-python",
   "name": "python",
   "nbconvert_exporter": "python",
   "pygments_lexer": "ipython3",
   "version": "3.6.3"
  }
 },
 "nbformat": 4,
 "nbformat_minor": 2
}
