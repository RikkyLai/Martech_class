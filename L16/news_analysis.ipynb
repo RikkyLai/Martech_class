{
 "cells": [
  {
   "cell_type": "code",
   "execution_count": 1,
   "metadata": {},
   "outputs": [
    {
     "name": "stdout",
     "output_type": "stream",
     "text": [
      "\n",
      "社评：美愿就香港摊多少牌，中国都将奉陪\n",
      "时政2&博览Politics&Look国际World军事China国内Military台湾Taiwan社会Society博览Look财经&科技Finance&Technology财经Financial一带一路Belt and Road财观察Observation科技Technology汽车&数码Auto&Digital汽车Auto智能Smart数码Digital无人机UVA游戏Game生活Life News文旅Tourism健康Hearth教育Education质量Quality体育Sports跑步Run滑雪Skiing风尚Fashion News娱乐Entertainment时尚Fashion艺术Art品鉴Luxury文化Culture公益Commonweal特色&产品Featured&Products环球社评Editorial海外看中国Oversee环球 TIME环游号环球时报Newspaper Products版权数据库生命时报品牌活动环球旅游周刊环球时报公基金会讽刺与幽默舆情中心Global Times合作Cooperation商协会Chamber大数据Bigdatat商业Business城市City社评：美愿就香港摊多少牌，中国都将奉陪来源：环球时报 2020-07-02 21:53美国众议院星期三紧急通过了“香港自治法案”，根据该法案，美国政府可以制裁“破坏香港高度自治”的个人和机构，包括向他们提供服务的银行等，有人称其为去年通过的“香港人权与民主法案”的“加辣版”。然而美方现在的问题不是再通过什么新的法案，而是它有多大的意志以牺牲自己的利益为代价损害香港和中国内地。欧洲总体上采取了现实主义的态度。一些欧洲国家表达了他们对香港国安法的关切或者反对，但并没有威胁参与对中国制裁。英国宣布给予持有英国国民（海外）护照BNO的香港人更长居留权，从半年延长至5年，且之后可以申请英国公民身份。然而如此移民英国对很多港人来说是很难实际操作的，更何况还要面临多年的不确定性。中国官方对英国此举表达了反对，这是任何国家在这种情况下的必然态度。但是说实话，英国此举对中国社会不产生任何压力，中国公众从来就不反对西方国家对中国“政治移民”的接收。英国社会对移民非常抵触，这是它脱欧的主要原因之一。它愿意在此时演向香港居民张开怀抱的戏，伤害不到中国老百姓，但是英国公众愿不愿意承受这样演戏的代价，就另当别论了。唯一真正叫嚣对华制裁的就只剩下美国。但美方迄今启动的制裁措施都只具有象征意义，“香港人权与民主法案”所允许的制裁工具还远没有用尽。实际情况是，美方好用的、对它自己不产生损失的那些工具，如制裁官员个人等都已经用出来了，而同时会让它自己跟着痛的工具基本还处在威胁使用的过程中。正如西方媒体分析的那样，美国已经很难设计出只对中国造成伤害而不对它自己造成损失，或者致使中方损失远大于美方损失的行动了。所以美方接下来要干什么，它自己先要想清楚。如果华盛顿要“不惜代价”毁掉不受它摆布的香港，以此来搞痛中国，那么它可以做的事还有很多。它完全可以将香港的关税与内地拉平，给港币与美元挂钩制造麻烦，但那将意味着美国损失大量对香港的贸易顺差，打击美元的通用货币地位。它要是宁肯自己倒霉也不让香港好，那么包括香港公众在内的14亿中国人民一定会对它奉陪到底。美国有着全球金融霸权，这个霸权是双向的，也就是说，它要向全球提供服务，有赖于全球捧它。它如果滥用金融霸权对香港进行根本性制裁，在给香港制造困难的同时，它也将逐渐敲响自己金融霸权的丧钟。它如果决意这样摊牌，中国也将奉陪到底。中国的经济成就说到底是全体人民辛勤干出来的，香港的巨大优势在于它作为中国对外窗口的位置不可取代。中国决不会把这个位置转给亚洲其他经济体的某个城市。因此香港的未来最终要由中国决定，而不是美国来决定。中国人民勤劳，已经建立起门类齐全的工业基础，高科技虽有短板，但是尖端技术的攻关能力已经形成。一个越来越慵懒的美国，一个连新冠疫情都控制不住且受到它越来越严重牵连的美国，想用几个“卡脖子”的招数就遏制住中国，甚至吓唬住中国，它也太狂妄、自恋了！举报我也说两句相关新闻环球时事塔吉克斯坦发生5.5级地震，震源深度10千米中国驻俄总领事馆：搭航班回国留学人员应在乘机前 120 小时进行鼻咽拭子核酸检测印度急购俄战机！美国的反应……南海、东海、黄海，大练兵！外媒：印度急购俄战机订单总价约14亿美元，美国威胁要制裁美媒：特朗普力促中美脱钩 美企却在盼中国产品水利部和中国气象局7月4日18时联合发布山洪灾害气象预警中国气象局：7月中旬起北方将进入降雨集中期生死营救！长江太仓段一货船沉没 2名落水船员获救哪里人最忙，哪里人最顾家？这份调查数据找对象的了解下？社评：新发现越来越多，看华盛顿如何演下去“台独”强势促统？台媒：大陆不断出招，“台海边界”模糊环球业界补助增加、调整缴费基数……医保这些变化影响你的钱袋子！小蓝车“坟场”财政金融协同发力畅通实体融资世卫调查美国“买断”瑞德西韦权威专家谈北京疫情后续发展日航推出全球首个自动驾驶轮椅服务郑州无人超市受热捧 顾客可自助结账环球风尚王鸥未来感大片曝光蔡徐坤身着黑色西装 帅气十足！爱施德惊艳主场，你抢到了吗毕业照留言册 打开了尘封的青春记忆环球产经i-GMP平台/首创CVVD 起亚全新K5凯酷搭载的新技术不止这些济川药业涉嫌虚假宣传深度好文 |只会“诈尸式”育儿的父母多可怕！致癌物质减少其他危害增加 揭开电子烟的真面目华南农业大学艺术学院2020届毕业生作品发布大众汽车在澳大利亚“排放门”新进展：大众与澳车主和解或赔1.27亿澳元山东加快智慧交通项目建设速度体育·旅游CBA复赛第一阶段：北京控股胜四川五粮金樽西甲：皇马1-0胜赫塔菲2019年国内游人次超60亿二级响应下 北京旅游业退改政策“更新”环球商城使命召唤14-二战轻巧 高亮 USB便捷充点击免费领取大红包春夏新品穿梭者抓绒套接下来推荐阅读\n",
      "\n"
     ]
    }
   ],
   "source": [
    "import requests\n",
    "from bs4 import BeautifulSoup\n",
    "import jieba\n",
    "import jieba.analyse\n",
    "import jieba.posseg as pseg\n",
    "import re\n",
    "from textrank4zh import TextRank4Keyword, TextRank4Sentence\n",
    "\n",
    "# requests 解析 html\n",
    "# url = 'https://3w.huanqiu.com/a/c36dc8/3xqGPRBcUE6?agt=8'\n",
    "url = 'https://opinion.huanqiu.com/article/3ytQxAIS1rU'\n",
    "# url  = 'https://movie.douban.com/subject/1291999/'\n",
    "html = requests.get(url, timeout=10)\n",
    "content = html.content\n",
    "\n",
    "# \n",
    "soup = BeautifulSoup(content, 'html.parser', from_encoding='utf-8')\n",
    "text = soup.get_text()\n",
    "print(text)\n"
   ]
  },
  {
   "cell_type": "code",
   "execution_count": 2,
   "metadata": {},
   "outputs": [
    {
     "name": "stderr",
     "output_type": "stream",
     "text": [
      "Building prefix dict from the default dictionary ...\n",
      "Loading model from cache C:\\Users\\zero\\AppData\\Local\\Temp\\jieba.cache\n",
      "Loading model cost 0.739 seconds.\n",
      "Prefix dict has been built successfully.\n"
     ]
    },
    {
     "name": "stdout",
     "output_type": "stream",
     "text": [
      " news person:  {'滑雪', '宁肯', '居留权', '山洪', '赫塔菲', '特朗普', '齐全', '蔡徐坤', '凯酷', '高亮', '连新冠', '练兵', '博览', '辛勤', '盼', '智慧', '远大于', '爱施德', '拉平', '王鸥', '顾客', '张开'}\n",
      "news place:  {'台海', '印度', '郑州', '西韦', '华盛顿', '北京', '黄海', '山东', '太仓', '台独', '欧洲', '澳大利亚', '澳', '四川', '济川', '回国', '台湾', '商城', '西甲', '英国', '俄', '青春', '美国', '驻俄', '长江', '东海', '香港', '亚洲', '中国', '深度', '城市', '美', '南海'}\n"
     ]
    }
   ],
   "source": [
    "# 根据词性分离词\n",
    "words = pseg.lcut(text)\n",
    "news_person = {word for word, flag in words if flag=='nr'}\n",
    "news_place = {word for word, flag in words if flag == 'ns'}\n",
    "print(\" news person: \", news_person)\n",
    "print(\"news place: \", news_place)"
   ]
  },
  {
   "cell_type": "code",
   "execution_count": null,
   "metadata": {},
   "outputs": [],
   "source": []
  }
 ],
 "metadata": {
  "kernelspec": {
   "display_name": "Python 3",
   "language": "python",
   "name": "python3"
  },
  "language_info": {
   "codemirror_mode": {
    "name": "ipython",
    "version": 3
   },
   "file_extension": ".py",
   "mimetype": "text/x-python",
   "name": "python",
   "nbconvert_exporter": "python",
   "pygments_lexer": "ipython3",
   "version": "3.6.5"
  }
 },
 "nbformat": 4,
 "nbformat_minor": 4
}
