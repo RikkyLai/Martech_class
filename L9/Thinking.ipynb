{
 "cells": [
  {
   "cell_type": "markdown",
   "metadata": {},
   "source": [
    "## 1.排序模型按照样本生成方法和损失函数的不同，可以划分成Pointwise, Pairwise, Listwise三类方法，这三类排序方法有何区别?\n",
    "答：Pointwise是指每一个文档都是一个训练样本，算法简单，但是只完成了预估功能，预估此文档属于哪个类别并给出属于这个类别的概率得分，搜相关query的时候它会出现，但是无法得到文档之间的相对关系，无法进行排序；Pairwise相比pointwise更接近排序的概念，它注重于两个文档之间的相关度，如果文档对中A比B相关性更高，会有一个得分，这样通过两两比较文档的相对关系，得到了全文档的偏序关系，完成排序的目的，缺点是只考虑了文档对之间的偏序关系，但文档对之间并不是独立的，而且不同的查询拥有的文档对数目不同，结果会向拥有文档对较多的查询偏移；Listwise是根据查询对应的搜索列表作为训练样本，但问题是很难找到合适的目标来代替原有的优化目标，很难找到合适的优化算法进行求解。\n",
    "\n",
    "\n",
    "\n",
    "## 2.排序模型按照结构划分，可以分为线性排序模型、树模型、深度学习模型，这些模型都有哪些典型的代表？\n",
    "答：线性模型：Logistic模型；树模型：GBDT模型；深度学习模型：RankNet、ListNet\n",
    "\n",
    "\n",
    "## 3.NDCG如何计算?\n",
    "答：$NDCG=\\frac{DCG}{IDCG}$     $DCG=\\sum_{i=1}^p\\frac{|rel|_i}{log_2(i+1)}$    $IDCG=\\sum_{i=1}^{|REL|}\\frac{|rel|_i}{log_2(i+1)}$\n",
    "\n",
    "\n",
    "## 4.搜索排序和推荐系统的相同和不同之处有哪些?\n",
    "答：推荐系统是无意识的主动推荐，排序的相关性并不是那么重要，而搜索是基于某个Query进行搜索推荐，要求排在前面的相关性要比较高。相同之处应该对推荐物品的相关性都有要求\n",
    "\n",
    "\n",
    "## 5.Listwise排序模型能否应用到推荐系统中?\n",
    "答：可以但没有必要，推荐系统只要推荐一些比较感兴趣或者新鲜的，新鲜的item刚开始会有冷启动的问题，如果按照相关性的指标，listwise会比较容易推荐\n",
    "\n"
   ]
  },
  {
   "cell_type": "code",
   "execution_count": null,
   "metadata": {},
   "outputs": [],
   "source": []
  }
 ],
 "metadata": {
  "kernelspec": {
   "display_name": "Python 3",
   "language": "python",
   "name": "python3"
  },
  "language_info": {
   "codemirror_mode": {
    "name": "ipython",
    "version": 3
   },
   "file_extension": ".py",
   "mimetype": "text/x-python",
   "name": "python",
   "nbconvert_exporter": "python",
   "pygments_lexer": "ipython3",
   "version": "3.6.3"
  }
 },
 "nbformat": 4,
 "nbformat_minor": 2
}
