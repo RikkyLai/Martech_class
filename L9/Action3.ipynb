{
 "cells": [
  {
   "cell_type": "markdown",
   "metadata": {},
   "source": [
    "### 如果你是某P2P租车的技术负责人，你会如何设计个性化推荐和搜索排序\n",
    "1. 阐述相似车型，搜索排序的设计方法\n",
    "2. 可能的embedding策略"
   ]
  },
  {
   "cell_type": "markdown",
   "metadata": {},
   "source": [
    "\n",
    "P2P租车服务的特征：\n",
    "* 大部分的用户很少会多次预定同一类型的车（短时间内）\n",
    "* 租车分时段的，只能在某段时间内被某一个用户预订\n",
    "* 低频事件（对于大部分预定用户），同一个地方租车更是低频\n",
    "* 双边的短租平台（consumer，host）\n",
    "* 顾客通过搜索或者系统推荐找到车 \n",
    "* 数据存在严重的稀疏性\n",
    "\n",
    "1. 相似车型首先需要将每辆车进行list embedding，之后根据用户之前预定的车和候选车进行embedding空间的余弦相似度，进行排序，最后得到搜索的名单\n",
    "\n",
    "2. 首先是要根据用户的点击行为构建session，其中每个会话定义为一个由用户点击的 M个房源 id 组成的的不间断序列，只要用户连续两次点击时间间隔超过30分钟，就认为是一个新的Session，最终是通过集合S来使相似的车在embedding空间更加相近。Embedding的算法采用了NLP中skip-gram，即根据中心的词预测出上下文的词，在这里，session就是一句话，而车就是一个listing即为一个词。（目标函数过程省略一万字），已有的数据集有上下文的关系，这样可以离线训练得到权重参数，最终车的embedding是隐藏层的输出。"
   ]
  },
  {
   "cell_type": "markdown",
   "metadata": {},
   "source": [
    "目标函数这一块比较难啃"
   ]
  }
 ],
 "metadata": {
  "kernelspec": {
   "display_name": "Python 3",
   "language": "python",
   "name": "python3"
  },
  "language_info": {
   "codemirror_mode": {
    "name": "ipython",
    "version": 3
   },
   "file_extension": ".py",
   "mimetype": "text/x-python",
   "name": "python",
   "nbconvert_exporter": "python",
   "pygments_lexer": "ipython3",
   "version": "3.6.3"
  }
 },
 "nbformat": 4,
 "nbformat_minor": 2
}
