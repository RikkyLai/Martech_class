{
 "cells": [
  {
   "cell_type": "code",
   "execution_count": 10,
   "metadata": {},
   "outputs": [
    {
     "name": "stdout",
     "output_type": "stream",
     "text": [
      "25 0.3359375 ”中国足协：接受里皮辞职请求，将深刻反思看了个报道，马达洛尼说：“关于里皮的辞职，我事先也没有被告知，自己也不清楚发生了什么，也许是里皮头脑一热的决定\n",
      "2 0.0703125 谁将成为新主帅，成为广大球迷关注的焦点\n",
      "4 0.3046875 ​据了解，无论中国足协态度如何，里皮其实在宣布请辞同时已经去意已决\n",
      "Top 3 邻居 [25, 2, 4]\n"
     ]
    }
   ],
   "source": [
    "from datasketch import MinHash, MinHashLSH, MinHashLSHForest\n",
    "# from sklearn.feature_extraction.text import TfidfVectorizer\n",
    "import jieba.posseg as pseg\n",
    "import re\n",
    "# 读取文件\n",
    "f = open('./weibos.txt', 'r', encoding='UTF-8')\n",
    "text = f.read()\n",
    "# 以句号，叹号，问号作为分隔，去掉\\n换行符号\n",
    "sentences = re.split('[。！？]', text.replace('\\n', ''))\n",
    "\n",
    "# 最后一行如果为空，则删除\n",
    "if sentences[len(sentences)-1] == '':\n",
    "    sentences.pop()\n",
    "    \n",
    "# 将item_text进行分词\n",
    "def get_item_str(item_text):\n",
    "    item_str = \"\" \n",
    "    item=(pseg.cut(item_text)) \n",
    "    for i in list(item):\n",
    "        #去掉停用词\n",
    "        if i.word not in list(stop):  \n",
    "            item_str += i.word\n",
    "            #tfidf_vectorizer.fit_transform的输入需要空格分隔的单词\n",
    "            item_str += \" \"\n",
    "    return item_str\n",
    "# 对item_str创建MinHash\n",
    "def get_minhash(item_str):\n",
    "    temp = MinHash()\n",
    "    for d in item_str:\n",
    "        temp.update(d.encode('utf8'))\n",
    "    return temp\n",
    "# 设置停用词\n",
    "stop = [line.strip().decode('utf-8') for line in open('stopword.txt').readlines()]\n",
    "# 得到分词后的documents\n",
    "documents = []\n",
    "for item_text in sentences:\n",
    "    # 将item_text进行分词\n",
    "    item_str = get_item_str(item_text)\n",
    "    documents.append(item_str)\n",
    "\n",
    "# 创建LSH Forest及MinHash对象\n",
    "minhash_list = []\n",
    "forest = MinHashLSHForest()\n",
    "for i in range(len(documents)):\n",
    "    #得到train_documents[i]的MinHash\n",
    "    temp = get_minhash(documents[i])\n",
    "    minhash_list.append(temp)\n",
    "    forest.add(i, temp)\n",
    "# index所有key，以便可以进行检索\n",
    "forest.index()\n",
    "\n",
    "query = '中国足协：接受里皮辞职请求，将深刻反思'\n",
    "# 将item_text进行分词\n",
    "item_str = get_item_str(query)\n",
    "# 得到item_str的MinHash\n",
    "minhash_query = get_minhash(item_str)\n",
    "\n",
    "# 查询forest中与m1相似的Top-K个邻居\n",
    "result = forest.query(minhash_query, 3)\n",
    "for i in range(len(result)):\n",
    "    print(result[i], minhash_query.jaccard(minhash_list[result[i]]), documents[result[i]].replace(' ', ''))\n",
    "print(\"Top 3 邻居\", result)\n",
    "\n"
   ]
  },
  {
   "cell_type": "markdown",
   "metadata": {},
   "source": [
    "## 流程\n",
    "读取文件➡️分割句子➡️对每个句子进行分词➡️分词后建立minhash➡️forest index所有keyjian tou"
   ]
  },
  {
   "cell_type": "markdown",
   "metadata": {},
   "source": [
    "# 下面是课程的示例而已"
   ]
  },
  {
   "cell_type": "code",
   "execution_count": 7,
   "metadata": {},
   "outputs": [
    {
     "name": "stdout",
     "output_type": "stream",
     "text": [
      "True\n",
      "True\n",
      "与m1相似度大于0.8的集合：\n",
      "m3\n",
      "m2\n"
     ]
    }
   ],
   "source": [
    "from datasketch import MinHash, MinHashLSH, MinHashLSHEnsemble\n",
    "data1 = ['这个', '程序', '代码', '太乱', '那个', '代码', '规范']\n",
    "data2 = ['这个', '程序', '代码', '不', '规范', '那个', '更', '规范']\n",
    "data3 = ['这个', '程序', '代码', '不', '规范', '那个', '规范', '些']\n",
    "\n",
    "# 创建MinHash对象\n",
    "m1 = MinHash()\n",
    "m2 = MinHash()\n",
    "m3 = MinHash()\n",
    "for d in data1:\n",
    "\tm1.update(d.encode('utf8'))\n",
    "for d in data2:\n",
    "\tm2.update(d.encode('utf8'))\n",
    "for d in data3:\n",
    "\tm3.update(d.encode('utf8'))\n",
    "# 创建LSH Ensemble\n",
    "lshensemble = MinHashLSHEnsemble(threshold=0.8, num_perm=128)\n",
    "# Index takes an iterable of (key, minhash, size)\n",
    "lshensemble.index([(\"m2\", m2, len(data2)), (\"m3\", m3, len(data3))])\n",
    "# 判断lshensemble是否存在m2, m3\n",
    "print(\"m2\" in lshensemble)\n",
    "print(\"m3\" in lshensemble)\n",
    "# 查询与m1相似度大于0.8的集合\n",
    "print(\"与m1相似度大于0.8的集合：\")\n",
    "for key in lshensemble.query(m1, len(data1)):\n",
    "    print(key)"
   ]
  },
  {
   "cell_type": "code",
   "execution_count": 4,
   "metadata": {},
   "outputs": [
    {
     "name": "stdout",
     "output_type": "stream",
     "text": [
      "近似的邻居（Jaccard相似度>0.5） ['m3', 'm2']\n"
     ]
    }
   ],
   "source": [
    "from datasketch import MinHash, MinHashLSH\n",
    "data1 = ['这个', '程序', '代码', '太乱', '那个', '代码', '规范']\n",
    "data2 = ['这个', '程序', '代码', '不', '规范', '那个', '更', '规范']\n",
    "data3 = ['这个', '程序', '代码', '不', '规范', '那个', '规范', '些']\n",
    "\n",
    "# 创建MinHash对象\n",
    "m1 = MinHash()\n",
    "m2 = MinHash()\n",
    "m3 = MinHash()\n",
    "for d in data1:\n",
    "\tm1.update(d.encode('utf8'))\n",
    "for d in data2:\n",
    "\tm2.update(d.encode('utf8'))\n",
    "for d in data3:\n",
    "\tm3.update(d.encode('utf8'))\n",
    "# 创建LSH\n",
    "lsh = MinHashLSH(threshold=0.5, num_perm=128)\n",
    "lsh.insert(\"m2\", m2)\n",
    "lsh.insert(\"m3\", m3)\n",
    "result = lsh.query(m1)\n",
    "print(\"近似的邻居（Jaccard相似度>0.5）\", result)"
   ]
  },
  {
   "cell_type": "code",
   "execution_count": 3,
   "metadata": {},
   "outputs": [
    {
     "name": "stderr",
     "output_type": "stream",
     "text": [
      "Building prefix dict from the default dictionary ...\n",
      "Dumping model to file cache /var/folders/3v/rzl6mxgn5cv4kjj7x3ggqcy00000gn/T/jieba.cache\n",
      "Loading model cost 1.764 seconds.\n",
      "Prefix dict has been built successfully.\n"
     ]
    },
    {
     "name": "stdout",
     "output_type": "stream",
     "text": [
      "10 1.0 00:01:36，2019天猫双11总成交额超100亿元\n",
      "12 0.8125 00:12:49，2019天猫双11总成交额超500亿元\n",
      "14 0.9375 01:03:59，2019天猫双11总成交额超1000亿元\n",
      "Top 3 邻居 [10, 12, 14]\n"
     ]
    }
   ],
   "source": [
    "# 对天猫双11新闻进行相似句子Top-K查询\n",
    "from datasketch import MinHash, MinHashLSH, MinHashLSHForest\n",
    "from sklearn.feature_extraction.text import TfidfVectorizer\n",
    "import jieba.posseg as pseg\n",
    "import re\n",
    "# 读取文件\n",
    "f = open('./sentences.txt', 'r', encoding='UTF-8')\n",
    "text = f.read()\n",
    "# 以句号，叹号，问号作为分隔，去掉\\n换行符号\n",
    "sentences = re.split('[。！？]', text.replace('\\n', ''))\n",
    "\n",
    "# 最后一行如果为空，则删除\n",
    "if sentences[len(sentences)-1] == '':\n",
    "    sentences.pop()\n",
    "#print(sentences)\n",
    "#print(len(sentences))\n",
    "\n",
    "# 将item_text进行分词\n",
    "def get_item_str(item_text):\n",
    "    item_str = \"\" \n",
    "    item=(pseg.cut(item_text)) \n",
    "    for i in list(item):\n",
    "        #去掉停用词\n",
    "        if i.word not in list(stop):  \n",
    "            item_str += i.word\n",
    "            #tfidf_vectorizer.fit_transform的输入需要空格分隔的单词\n",
    "            item_str += \" \"\n",
    "    return item_str\n",
    "# 对item_str创建MinHash\n",
    "def get_minhash(item_str):\n",
    "    temp = MinHash()\n",
    "    for d in item_str:\n",
    "        temp.update(d.encode('utf8'))\n",
    "    return temp\n",
    "\n",
    "# 设置停用词\n",
    "stop = [line.strip().decode('utf-8') for line in open('stopword.txt').readlines()]\n",
    "# 得到分词后的documents\n",
    "documents = []\n",
    "for item_text in sentences:\n",
    "    # 将item_text进行分词\n",
    "    item_str = get_item_str(item_text)\n",
    "    documents.append(item_str)\n",
    "\n",
    "# 创建LSH Forest及MinHash对象\n",
    "minhash_list = []\n",
    "forest = MinHashLSHForest()\n",
    "for i in range(len(documents)):\n",
    "    #得到train_documents[i]的MinHash\n",
    "    temp = get_minhash(documents[i])\n",
    "    minhash_list.append(temp)\n",
    "    forest.add(i, temp)\n",
    "# index所有key，以便可以进行检索\n",
    "forest.index()\n",
    "\n",
    "query = '00:01:36，2019天猫双11总成交额超100亿元'\n",
    "# 将item_text进行分词\n",
    "item_str = get_item_str(query)\n",
    "# 得到item_str的MinHash\n",
    "minhash_query = get_minhash(item_str)\n",
    "\n",
    "# 查询forest中与m1相似的Top-K个邻居\n",
    "result = forest.query(minhash_query, 3)\n",
    "for i in range(len(result)):\n",
    "    print(result[i], minhash_query.jaccard(minhash_list[result[i]]), documents[result[i]].replace(' ', ''))\n",
    "print(\"Top 3 邻居\", result)"
   ]
  },
  {
   "cell_type": "code",
   "execution_count": 5,
   "metadata": {},
   "outputs": [
    {
     "name": "stdout",
     "output_type": "stream",
     "text": [
      "使用MinHash预估的Jaccard相似度 0.6015625\n",
      "Jaccard相似度实际值 0.625\n",
      "{'代码', '规范', '程序', '那个', '这个'}\n",
      "5\n",
      "8\n",
      "{'代码', '规范', '太乱', '程序', '那个', '更', '这个', '不'}\n"
     ]
    }
   ],
   "source": [
    "from datasketch import MinHash\n",
    "data1 = ['这个', '程序', '代码', '太乱', '那个', '代码', '规范']\n",
    "data2 = ['这个', '程序', '代码', '不', '规范', '那个', '更', '规范']\n",
    "\n",
    "\n",
    "m1 = MinHash()\n",
    "m2 = MinHash()\n",
    "for d in data1:\n",
    "\tm1.update(d.encode('utf8'))\n",
    "for d in data2:\n",
    "    m2.update(d.encode('utf8'))\n",
    "print(\"使用MinHash预估的Jaccard相似度\", m1.jaccard(m2))\n",
    "\n",
    "s1 = set(data1)\n",
    "s2 = set(data2)\n",
    "actual_jaccard = float(len(s1.intersection(s2)))/float(len(s1.union(s2)))\n",
    "print(\"Jaccard相似度实际值\", actual_jaccard)\n",
    "print(s1.intersection(s2))\n",
    "print(len(s1.intersection(s2)))\n",
    "print(len(s1.union(s2)))\n",
    "print(s1.union(s2))"
   ]
  },
  {
   "cell_type": "code",
   "execution_count": 6,
   "metadata": {},
   "outputs": [
    {
     "name": "stdout",
     "output_type": "stream",
     "text": [
      "True\n",
      "True\n",
      "与m1相似度大于0.8的集合：\n",
      "m3\n",
      "m2\n"
     ]
    }
   ],
   "source": [
    "from datasketch import MinHash, MinHashLSH, MinHashLSHEnsemble\n",
    "data1 = ['这个', '程序', '代码', '太乱', '那个', '代码', '规范']\n",
    "data2 = ['这个', '程序', '代码', '不', '规范', '那个', '更', '规范']\n",
    "data3 = ['这个', '程序', '代码', '不', '规范', '那个', '规范', '些']\n",
    "\n",
    "# 创建MinHash对象\n",
    "m1 = MinHash()\n",
    "m2 = MinHash()\n",
    "m3 = MinHash()\n",
    "for d in data1:\n",
    "\tm1.update(d.encode('utf8'))\n",
    "for d in data2:\n",
    "\tm2.update(d.encode('utf8'))\n",
    "for d in data3:\n",
    "\tm3.update(d.encode('utf8'))\n",
    "# 创建LSH Ensemble\n",
    "lshensemble = MinHashLSHEnsemble(threshold=0.8, num_perm=128)\n",
    "# Index takes an iterable of (key, minhash, size)\n",
    "lshensemble.index([(\"m2\", m2, len(data2)), (\"m3\", m3, len(data3))])\n",
    "# 判断lshensemble是否存在m2, m3\n",
    "print(\"m2\" in lshensemble)\n",
    "print(\"m3\" in lshensemble)\n",
    "# 查询与m1相似度大于0.8的集合\n",
    "print(\"与m1相似度大于0.8的集合：\")\n",
    "for key in lshensemble.query(m1, len(data1)):\n",
    "    print(key)"
   ]
  },
  {
   "cell_type": "code",
   "execution_count": null,
   "metadata": {},
   "outputs": [],
   "source": []
  }
 ],
 "metadata": {
  "kernelspec": {
   "display_name": "Python 3",
   "language": "python",
   "name": "python3"
  },
  "language_info": {
   "codemirror_mode": {
    "name": "ipython",
    "version": 3
   },
   "file_extension": ".py",
   "mimetype": "text/x-python",
   "name": "python",
   "nbconvert_exporter": "python",
   "pygments_lexer": "ipython3",
   "version": "3.6.3"
  }
 },
 "nbformat": 4,
 "nbformat_minor": 2
}
