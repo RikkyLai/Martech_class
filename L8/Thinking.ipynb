{
 "cells": [
  {
   "cell_type": "markdown",
   "metadata": {},
   "source": [
    "## 1.什么是近似最近邻查找，常用的方法有哪些？\n",
    "答：最近邻查找（nearest neighbor search），找到与目标最近似的数据，但时间上是需要与数据长度对应的线性时间，对于数据大的任务效率不高；近似最近邻查（Approximate Nearest Neighbor，ANN）找就是采用某种方式减少查找时间，返回的也不是最优近似值，而是一组有可能是最近似的值；常用的方法有树方法和哈希方法。\n",
    "\n",
    "## 2.为什么两个集合的minhash值相同的概率等于这两个集合的Jaccard相似度?\n",
    "答：现仅考虑集合S1和S2，那么这两列所在的行有下面3种类型：\n",
    "       1、S1和S2的值都为1，记为X\n",
    "       2、只有一个值为1，另一个值为0，记为Y\n",
    "       3、S1和S2的值都为0，记为Z\n",
    "\n",
    "       S1和S2交集的元素个数为x，并集的元素个数为x+y，所以sim(S1,S2) = Jaccard(S1,S2) = x/(x+y)。接下来计算h(S1)=h(S2)的概率，经过随机行打乱后，从上往下扫描，在碰到Y行之前碰到X行的概率为x/(x+y)，即h(S1)=h(S2)的概率为x/(x+y)。  （似懂非懂）\n",
    "\n",
    "## 3.SimHash在计算文档相似度的作用是怎样的？\n",
    "答：通过simHash得到文档的指纹，比较指纹的海明距离，如果海明距离小于3就认为两篇文章相似。\n",
    "\n",
    "## 4.为什么YouTube采用期望观看时间作为评估指标\n",
    "答：CTR指标对于视频搜索具有一定的欺骗性，所以论文提出采用期望观看时间作为评估指标（还有其它原因吗？）\n",
    "\n",
    "\n",
    "## 5.为什么YouTube在排序阶段没有采用经典的LR（逻辑回归）当作输出层，而是采用了Weighted Logistic Regression？\n",
    "答：观看时长并不能简单只用0，1来表示，\n",
    "\n"
   ]
  }
 ],
 "metadata": {
  "kernelspec": {
   "display_name": "Python 3",
   "language": "python",
   "name": "python3"
  },
  "language_info": {
   "codemirror_mode": {
    "name": "ipython",
    "version": 3
   },
   "file_extension": ".py",
   "mimetype": "text/x-python",
   "name": "python",
   "nbconvert_exporter": "python",
   "pygments_lexer": "ipython3",
   "version": "3.6.3"
  }
 },
 "nbformat": 4,
 "nbformat_minor": 2
}
