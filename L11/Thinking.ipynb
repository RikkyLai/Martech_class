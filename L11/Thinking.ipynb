{
 "cells": [
  {
   "cell_type": "markdown",
   "metadata": {},
   "source": [
    "## 1.当我们思考数据源的时候，都有哪些维度，如果你想要使用爬虫抓取数据，都有哪些工具？\n",
    "答：思考数据源的维度可以包括时间维度，比如历史数据；包括小概率发生事件，例如黑天鹅事件；数量维度，总量平均值方差这些；包括数据交互维度，用户行为和商品行为等。收集数据的维度可以包括开放数据源、爬虫、日志收集、传感器等。爬虫工具（火车采集器、八爪鱼等）和爬虫代码。\n",
    "\n",
    "\n",
    "## 2.今天讲解了时间序列预测的两种方式，实际上在数据库内建时间属性后，可以产生时序数据库，请思考什么是时序数据库？为什么时间序列数据成为增长最快的数据类型之一\n",
    "答：时序数据库是根据时间属性进行排列、切片的数据，因为很多数据在不受外力干涉的一个循环中有规律，例如传感器记录的里程信息、电量信息、历史路径信息，都能提供联系很深的特征，又如日志记录的也是带有时间属性，每隔多长时间的操作等因素考虑了时间因素之后会对效果产生影响。\n",
    "\n",
    "\n",
    "## 3.开源是当前重要的Trend，我们使用的statsmodels.tsa，tensorflow/keras都是开源工具1）你都知道有哪些和AI相关的开源工具？2）阿里，微软，百度 都有哪些和AI相关的开源工具（包括LightGBM）3）了解和使用这些工具，对于我们有哪些价值？\n",
    "答：pytorch、flyai、AutoML、paddle paddle等；有开放一些深度学习任务（包括图像识别、目标追踪、自然语言识别）的接口，AutoML、Severless等，作为demo快速评估开源算法的效率和实用性、了解目前工业化应用的进程或者省略"
   ]
  },
  {
   "cell_type": "markdown",
   "metadata": {},
   "source": [
    "## 作业问题：\n",
    "作业中LSTM的预测没有很好的结果，原因应该有 1.参数没有设置好？（这个只能多试试？）2.LSTM最后加了一个dense，这个是常见的吗？我之前好像试过可以只用LSTMcell，只需要return_sequence=True就可以？   3.输入的时间步需要大一点？   4.需要将输入数据进行一个归一化操作？最后再进行返归一化？"
   ]
  },
  {
   "cell_type": "code",
   "execution_count": null,
   "metadata": {},
   "outputs": [],
   "source": []
  }
 ],
 "metadata": {
  "kernelspec": {
   "display_name": "Python 3",
   "language": "python",
   "name": "python3"
  },
  "language_info": {
   "codemirror_mode": {
    "name": "ipython",
    "version": 3
   },
   "file_extension": ".py",
   "mimetype": "text/x-python",
   "name": "python",
   "nbconvert_exporter": "python",
   "pygments_lexer": "ipython3",
   "version": "3.6.3"
  }
 },
 "nbformat": 4,
 "nbformat_minor": 2
}
