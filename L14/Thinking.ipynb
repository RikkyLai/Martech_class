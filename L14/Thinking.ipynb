{
 "cells": [
  {
   "cell_type": "markdown",
   "metadata": {},
   "source": [
    "## 1.CTR数据中的类别数据处理，编码方式有哪些，区别是什么?\n",
    "答：click through rate点击率。类别数据处理的编码方式有one-hot Encoder和label Encoder；onehot会形成多个特征，每个特征只有0或者1，而且仅有1个1，所以数据分布会比较稀疏；label是离散化特征，只有一列，有多少种类决定了label值的范围；还有二进制编码主要是先将类别特征进行序号编码，然后用序号编码的二进制作为编码结果，维度少于独热编码，节省了存储空间。\n",
    "\n",
    "\n",
    "\n",
    "## 2.对于时间类型数据，处理方法有哪些\n",
    "答：时间类型的数据可以转化为时间戳，然后可以进行时间戳的加减操作，得到时间间隔、月份等信息；又或者可以和其它特征相组合，得到复合特征\n",
    "\n",
    "\n",
    "\n",
    "## 3.你是如何理解CTR预估中的特征组合的，请举例说明\n",
    "答：特征组合与点击率之间是有显著的相关性的。因为只有基本特征可能会缺乏线性表达，而组合特征能够提供非线性表达。有用户A、B、C，有物品E、F，可以使用用户-物品的组合特征，描述偏好权重，对模型的表达有提高。\n",
    "\n",
    "\n",
    "\n",
    "## 4.DCN和xDeepFM都可以进行自动特征组合，有何区别\n",
    "答：DCN无法意识到field vector 概念，无法从隐式层面学习到特征，而xDeepFM就是引入了FM的vector-wise思想到cross部分。\n",
    "\n",
    "\n",
    "\n",
    "\n",
    "## 5.今天讲解的特征组合只是特征工程中的一部分，你理解的特征工程都包括哪些，不防做个思维导图\n",
    "答：特征工程包括：填缺失值、特征数值离散化、特征组合、特征embedding、特征jiao cha\n",
    "\n",
    "\n",
    "\n",
    "\n"
   ]
  }
 ],
 "metadata": {
  "kernelspec": {
   "display_name": "Python 3",
   "language": "python",
   "name": "python3"
  },
  "language_info": {
   "codemirror_mode": {
    "name": "ipython",
    "version": 3
   },
   "file_extension": ".py",
   "mimetype": "text/x-python",
   "name": "python",
   "nbconvert_exporter": "python",
   "pygments_lexer": "ipython3",
   "version": "3.6.3"
  }
 },
 "nbformat": 4,
 "nbformat_minor": 2
}
