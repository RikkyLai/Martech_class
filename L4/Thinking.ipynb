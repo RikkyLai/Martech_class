{
 "cells": [
  {
   "cell_type": "markdown",
   "metadata": {},
   "source": [
    "# Thinking"
   ]
  },
  {
   "cell_type": "markdown",
   "metadata": {},
   "source": [
    "## 1.ALS都有哪些应用场景\n",
    "答：ALS，交替最小二乘法，通常应用于推荐算法中的矩阵分解，即将打分矩阵分解成XY两个矩阵，降低数据维度。也许在一些二维的线性回归问题中也可以得到应用。\n",
    "\n",
    "## 2.ALS进行矩阵分解的时候，为什么可以并行化处理\n",
    "答：因为ALS分解的时候，X或者Y的行向量只跟A对应行号的行向量和Y或者X有关，所以可以分开求解，并行化处理\n",
    "\n",
    "## 3.梯度下降法中的批量梯度下降（BGD），随机梯度下降（SGD），和小批量梯度下降有什么区别（MBGD）\n",
    "答：BGD每次更新使用全部的样本，稳定、收敛慢，数据大的时候不能玩耍；SGD每次只使用一个样本更新梯度，不稳定，收敛快，但无法达到最优点，一直在震荡；MBGD的性能就在前两者之间，使用一部分样本更新梯度。\n",
    "\n",
    "## 4. 对数据进行可视化EDA都有哪些方式，你都是用过哪些工具？\n",
    "答：散点图、饼状图、柱状图、条形图等等，python的matplotlib和seaborn之前都用过，只是没那么娴熟\n",
    "\n",
    "## 5.你阅读过和推荐系统/计算广告/预测相关的论文么？有哪些论文是你比较推荐的，可以分享到微信群中\n",
    "答：还没有"
   ]
  }
 ],
 "metadata": {
  "kernelspec": {
   "display_name": "Python 3",
   "language": "python",
   "name": "python3"
  },
  "language_info": {
   "codemirror_mode": {
    "name": "ipython",
    "version": 3
   },
   "file_extension": ".py",
   "mimetype": "text/x-python",
   "name": "python",
   "nbconvert_exporter": "python",
   "pygments_lexer": "ipython3",
   "version": "3.6.3"
  }
 },
 "nbformat": 4,
 "nbformat_minor": 2
}
