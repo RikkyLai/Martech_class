{
 "cells": [
  {
   "cell_type": "code",
   "execution_count": 1,
   "metadata": {},
   "outputs": [],
   "source": [
    "from surprise import Dataset\n",
    "from surprise import Reader\n",
    "from surprise import BaselineOnly, KNNBasic, NormalPredictor\n",
    "from surprise import accuracy\n",
    "from surprise.model_selection import KFold\n"
   ]
  },
  {
   "cell_type": "code",
   "execution_count": 3,
   "metadata": {},
   "outputs": [
    {
     "data": {
      "text/plain": [
       "<surprise.trainset.Trainset at 0x1064e4e80>"
      ]
     },
     "execution_count": 3,
     "metadata": {},
     "output_type": "execute_result"
    }
   ],
   "source": [
    "# 数据读取\n",
    "reader = Reader(line_format='user item rating timestamp', sep=',', skip_lines=1)\n",
    "data = Dataset.load_from_file('ratings.csv', reader=reader)\n",
    "train_set = data.build_full_trainset()\n",
    "train_set"
   ]
  },
  {
   "cell_type": "code",
   "execution_count": 10,
   "metadata": {},
   "outputs": [
    {
     "name": "stdout",
     "output_type": "stream",
     "text": [
      "RMSE: 1.4320\n",
      "RMSE: 1.4304\n",
      "RMSE: 1.4325\n",
      "user: 196        item: 302        r_ui = 4.00   est = 3.51   {'was_impossible': False}\n"
     ]
    }
   ],
   "source": [
    "# ALS优化\n",
    "# bsl_options = {'method': 'als','n_epochs': 5,'reg_u': 12,'reg_i': 5}\n",
    "# SGD优化\n",
    "# bsl_options = {'method': 'sgd','n_epochs': 5}\n",
    "# algo = BaselineOnly(bsl_options=bsl_options)\n",
    "#algo = BaselineOnly()\n",
    "algo = NormalPredictor()\n",
    "\n",
    "kf = KFold(n_splits=3)\n",
    "for trainset, testset in kf.split(data):\n",
    "    algo.fit(trainset)\n",
    "    predictions = algo.test(testset)\n",
    "    accuracy.rmse(predictions, verbose=True)\n",
    "uid = str(196)\n",
    "iid = str(302)\n",
    "\n",
    "# 输出uid对iid的预测结果\n",
    "pred = algo.predict(uid, iid, r_ui=4, verbose=True)"
   ]
  },
  {
   "cell_type": "code",
   "execution_count": 7,
   "metadata": {},
   "outputs": [
    {
     "name": "stdout",
     "output_type": "stream",
     "text": [
      "user: 196        item: 302        r_ui = None   est = 4.20   {'was_impossible': False}\n"
     ]
    }
   ],
   "source": [
    "pred = algo.predict(uid, iid, verbose=True)"
   ]
  },
  {
   "cell_type": "code",
   "execution_count": 8,
   "metadata": {},
   "outputs": [
    {
     "data": {
      "text/plain": [
       "\u001b[0;31mSignature:\u001b[0m \u001b[0malgo\u001b[0m\u001b[0;34m.\u001b[0m\u001b[0mpredict\u001b[0m\u001b[0;34m(\u001b[0m\u001b[0muid\u001b[0m\u001b[0;34m,\u001b[0m \u001b[0miid\u001b[0m\u001b[0;34m,\u001b[0m \u001b[0mr_ui\u001b[0m\u001b[0;34m=\u001b[0m\u001b[0;32mNone\u001b[0m\u001b[0;34m,\u001b[0m \u001b[0mclip\u001b[0m\u001b[0;34m=\u001b[0m\u001b[0;32mTrue\u001b[0m\u001b[0;34m,\u001b[0m \u001b[0mverbose\u001b[0m\u001b[0;34m=\u001b[0m\u001b[0;32mFalse\u001b[0m\u001b[0;34m)\u001b[0m\u001b[0;34m\u001b[0m\u001b[0m\n",
       "\u001b[0;31mDocstring:\u001b[0m\n",
       "Compute the rating prediction for given user and item.\n",
       "\n",
       "The ``predict`` method converts raw ids to inner ids and then calls the\n",
       "``estimate`` method which is defined in every derived class. If the\n",
       "prediction is impossible (e.g. because the user and/or the item is\n",
       "unkown), the prediction is set according to :meth:`default_prediction()\n",
       "<surprise.prediction_algorithms.algo_base.AlgoBase.default_prediction>`.\n",
       "\n",
       "Args:\n",
       "    uid: (Raw) id of the user. See :ref:`this note<raw_inner_note>`.\n",
       "    iid: (Raw) id of the item. See :ref:`this note<raw_inner_note>`.\n",
       "    r_ui(float): The true rating :math:`r_{ui}`. Optional, default is\n",
       "        ``None``.\n",
       "    clip(bool): Whether to clip the estimation into the rating scale.\n",
       "        For example, if :math:`\\hat{r}_{ui}` is :math:`5.5` while the\n",
       "        rating scale is :math:`[1, 5]`, then :math:`\\hat{r}_{ui}` is\n",
       "        set to :math:`5`. Same goes if :math:`\\hat{r}_{ui} < 1`.\n",
       "        Default is ``True``.\n",
       "    verbose(bool): Whether to print details of the prediction.  Default\n",
       "        is False.\n",
       "\n",
       "Returns:\n",
       "    A :obj:`Prediction            <surprise.prediction_algorithms.predictions.Prediction>` object\n",
       "    containing:\n",
       "\n",
       "    - The (raw) user id ``uid``.\n",
       "    - The (raw) item id ``iid``.\n",
       "    - The true rating ``r_ui`` (:math:`\\hat{r}_{ui}`).\n",
       "    - The estimated rating (:math:`\\hat{r}_{ui}`).\n",
       "    - Some additional details about the prediction that might be useful\n",
       "      for later analysis.\n",
       "\u001b[0;31mFile:\u001b[0m      /Library/Frameworks/Python.framework/Versions/3.6/lib/python3.6/site-packages/surprise/prediction_algorithms/algo_base.py\n",
       "\u001b[0;31mType:\u001b[0m      method\n"
      ]
     },
     "metadata": {},
     "output_type": "display_data"
    }
   ],
   "source": [
    "algo.predict?"
   ]
  },
  {
   "cell_type": "code",
   "execution_count": null,
   "metadata": {},
   "outputs": [],
   "source": []
  }
 ],
 "metadata": {
  "kernelspec": {
   "display_name": "Python 3",
   "language": "python",
   "name": "python3"
  },
  "language_info": {
   "codemirror_mode": {
    "name": "ipython",
    "version": 3
   },
   "file_extension": ".py",
   "mimetype": "text/x-python",
   "name": "python",
   "nbconvert_exporter": "python",
   "pygments_lexer": "ipython3",
   "version": "3.6.3"
  }
 },
 "nbformat": 4,
 "nbformat_minor": 4
}
